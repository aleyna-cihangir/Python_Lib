{
  "nbformat": 4,
  "nbformat_minor": 0,
  "metadata": {
    "colab": {
      "name": "Yapay_Zeka_ve_Veri_Bilimi_Notları.ipynb",
      "provenance": [],
      "collapsed_sections": [
        "GBIUV2pxWD-i",
        "zonVg6JOYWZl",
        "H4-bfGHGYcky",
        "WbdpG-2NcfDk",
        "qHG2vVfdcl3b",
        "d2SzPEQ5cpEy"
      ]
    },
    "kernelspec": {
      "name": "python3",
      "display_name": "Python 3"
    }
  },
  "cells": [
    {
      "cell_type": "markdown",
      "metadata": {
        "id": "_g7Z3PdJkYkV"
      },
      "source": [
        "**Veri analitiği, bütüncül anlamda bir değer üretmektir.** \n",
        "\n",
        "**Analitik düşünce, üretilecek olan değerdeki kişisel potansiyellerimizdir.**"
      ]
    },
    {
      "cell_type": "markdown",
      "metadata": {
        "id": "3rawxSlRnUTK"
      },
      "source": [
        "#Veri Bilimine Giriş :\n",
        "\n",
        "\n",
        "Veri bilimi, veriden faydalı bilgi çıkarma sürecine denir. **Düşünce becerilerimiz** ve **veri analitiğimizi** kullanarak **bilgiler** oluşturacağız ve bu bilgileri kullanacağımız **aksiyonlara** çevireceğiz. \n",
        "\n",
        "Veri bilimci, veri sürecinden faydalı bilgiyi çıkartan kişiye denir.\n",
        "**** \n",
        "\n",
        "Veriden Faydalı Bilgi Çıkarma İşlemi Nasıl Gerçekleşir?\n",
        "\n",
        "+ **Betimleyici Analitik :** \"Ne olmuş\" sorusuna yanıt arar. \n",
        "+ **Teşhis Tanı Analitiği :** \"Neden olmuş\" sorusuna yanıt arar. \n",
        "+ **Tahminsel Analitik :** \"Ne olacak\" sorusuna yanıt arar. \n",
        "+ **Yönergeli Analitik :** \"Ne,Nasıl olmalı\" sorusuna yanıt arar. \n",
        "\n",
        "****\n",
        "\n",
        "Veri Bilimi Proje Döngüsü :\n",
        "\n",
        "Metodlardan biri  olan \"CRISP-DM\" kullanılıyor.  \n",
        "+ **İş Anlayışı(Business Understanding) :** Bir problemimiz var örneğin elimizde ki bir ürünü satmak sitiyoruz. Ama bu ürünün markası veya modeli veya herhangi özelliğine bağlı olarak ne kadar bir fiyat biçmemiz gerektiği konusunda bilgimiz yok.Bu fiyatı elimizdeki özelliklere bağlı olarak belirleyecek br sistem oluşturulması istenmektedir. Yani elimizde bir problemin olması gerekmektedir. Peki bu ürünün  piyasadaki fiyatını veri bilimci nasıl anlayacak? O da şu şekilde gerçekleşmektedir; veri bilimci ürünün piyaddaki benzer özelliklerini kullanarak yani veriyi kulanarak bir fiyat biçimlendirmesi oluşrturacaktır. Bir model oluşturulacak ve bunu  x ve y şeklinde bir fonksiyon oluşturacağız. \n",
        "+ **Veriyi Anlamak(Data Understanding) :**  Modeli oluşturmak için değişkenleri anlamamız veriyi yorumlamamız gerekiyor; standart sapma, ortalama, mini, max gibi istatiksel veriler.. \n",
        "+ **Verilerin Hazırlanması(Data Preparation) :** Excel formda elimizde ürünün verileri olduğunu düşünelim; amacımız fiyat tahmini oluşturacak bir model yapmaktı. İlk önce veri setimizi hazırlamamız gerekmektedir. Yapısal bozukluklar, eksik veya kaybolmuş değerler(NA), aykırı değerler, gürültülğ değerler içerebilecek olan setimizdeönce düzeltme veya temizleme işlmelerinin yapılması gerekir. (VERİ ÖN İŞLEME)\n",
        "+ **Modelleme(Modeling) :** Çoklu Doğrusal Regresyon modelleme tekniklerinden biridir. Elimizde bir fonksiyon olacaktır;  $y=b0 +b1x1 + b2x2 + ... + bnxn$ \n",
        "\n",
        " b0,b1,b2, ... ,bn  : veri setinin içerisinden öğrenilen kat sayılardır. \n",
        "+ **Değerlendirme(Evulation) :**  Performans değerlendirilmesi gerçekleşecektir. Gerçek değerler vs Tahmin edilen değerler \n",
        "+ **Kullanıma Sokma(Deployment) :**  \n",
        "\n",
        "****\n",
        "\n",
        "\n",
        "\n",
        "\n"
      ]
    },
    {
      "cell_type": "markdown",
      "metadata": {
        "id": "GBIUV2pxWD-i"
      },
      "source": [
        "#PYTHON  : GİRİŞ ve TEMEL HAREKETLER \n",
        "\n",
        "\n"
      ]
    },
    {
      "cell_type": "code",
      "metadata": {
        "id": "gVhxb4PHkp2X",
        "colab": {
          "base_uri": "https://localhost:8080/"
        },
        "outputId": "e930df73-5669-4fc9-f87c-10bf5a27b95d"
      },
      "source": [
        "type(9) #integer\n",
        "type(9.2) #float\n",
        "type(\"hello\") #string"
      ],
      "execution_count": null,
      "outputs": [
        {
          "output_type": "execute_result",
          "data": {
            "text/plain": [
              "str"
            ]
          },
          "metadata": {
            "tags": []
          },
          "execution_count": 1
        }
      ]
    },
    {
      "cell_type": "markdown",
      "metadata": {
        "id": "1M-Ncoelv7xv"
      },
      "source": [
        "**String :**  karakter dizisi olduğunu belli etmel için  **\" \"**  veya  **' '**  işareti koyuyoruz.  "
      ]
    },
    {
      "cell_type": "code",
      "metadata": {
        "id": "ZwTYllyiv-qX",
        "colab": {
          "base_uri": "https://localhost:8080/",
          "height": 36
        },
        "outputId": "b1a17f18-eb3d-4336-9448-0797b59f22c7"
      },
      "source": [
        "# Eğer tırnak içine alınmazsa string bir ifade, kod bloğu hata verecektir.        - SYNTAXERROR\n",
        "\"hello AI\"\n",
        "\n",
        "# Tırnak içine alınan her ifade bizim için string br ifadedir.\n",
        "type(9) #int \n",
        "type(\"9\") #str\n",
        "\n",
        "# Sadece Tırnak işareti koyarsak str bir ifade ile karşılaşırız.\n",
        "type(\"\") \n",
        "type(\" \") # Boşluk bir string ifade olarak algılanır. \n",
        "\n",
        "\"a\"+\"b\"  # 'ab' şeklinde çıktı alırız. Bir araya getiriyor. \"a\" \"b\"  bu şekilde de yazarsak aynı çıktıyı elde ederiz.\n",
        "\"a\"+\" b\"  #aralarında boşluk bulunmaktadır. \n",
        "len(\"a\"+\" b\") # 3 sayısını elde ederiz. Boşluk bir string ifade olarak algılanır. \n",
        "\n",
        "# String ifadelerde çıkarma işlemi yapılamaz. Zaten yukarıda yapılan bir Toplama işlemi değil Birleştirme işlemidir.         - TYPEERROR\n",
        "#\"a\" - \"b\"\n",
        "\n",
        "\"a\"*3      #3 adet a harfini yan yana ekrana yazdırır. Çoğaltmak olarak adlandırabiliriz. \n",
        "#  \"a\"/3 -TYPEERROR\n"
      ],
      "execution_count": null,
      "outputs": [
        {
          "output_type": "execute_result",
          "data": {
            "application/vnd.google.colaboratory.intrinsic+json": {
              "type": "string"
            },
            "text/plain": [
              "'aaa'"
            ]
          },
          "metadata": {
            "tags": []
          },
          "execution_count": 2
        }
      ]
    },
    {
      "cell_type": "markdown",
      "metadata": {
        "id": "6RCRIiUGALTM"
      },
      "source": [
        "**String Metotları :**"
      ]
    },
    {
      "cell_type": "code",
      "metadata": {
        "colab": {
          "base_uri": "https://localhost:8080/"
        },
        "id": "i7bFUlNV-_ZU",
        "outputId": "50c877be-d336-45ef-c27c-40ba9a5240b4"
      },
      "source": [
        "a = \"gelecegi yazanlar**\"\n",
        "len(a)  # 17 elemandan oluşuyor bilgisini bize vermektedir. \n",
        "\n",
        "a.upper() # Tüm elemanları Büyük Harf olarak yazar. \n",
        "a.lower() # Tüm elemanları Küçük Harf olarak yazar. \n",
        "a.islower() # False çünkü G büyük harf. Boolean döndürür ve tüm elemanları kontrol eder. \n",
        "a.isupper() # False çünkü G hariç hepsi küçük harf. \n",
        "a.replace(\"e\", \"a\") # String içerisndeki karakterleri değiştirmeye yarar. HAYAT KURTARAN BİR METOT.\n",
        "                    # İlk kısım değiştireceğimiz karakter, İkinci kısım hangi karakter ile değiştireceğimiz\n",
        "a.strip(\"*\") # Baştaki ve sondaki İstenmeyen karakterleri kırpmak için kullanılan bir metot. \n",
        "a.capitalize() # İlk harfi büyüten metot.\n",
        "a.title() # Başlık içn her bir kelimenin ilk harfini büyük yapar. \n",
        "a.startswith(\"g\") # İlk Harfin g olup olmadığını sorguluyoruz. Boolean döndürür. \n",
        "a.partition(\"e\")  # İlk gördüğü harfi ayırır ve sanki 3 farklı kelime varmış gibi davranır.  \n",
        "a.split() # Bir dziye atama yapar. "
      ],
      "execution_count": null,
      "outputs": [
        {
          "output_type": "execute_result",
          "data": {
            "text/plain": [
              "['gelecegi', 'yazanlar**']"
            ]
          },
          "metadata": {
            "tags": []
          },
          "execution_count": 3
        }
      ]
    },
    {
      "cell_type": "code",
      "metadata": {
        "id": "yc2PvBo9JGgO",
        "colab": {
          "base_uri": "https://localhost:8080/"
        },
        "outputId": "ba6465ff-3b27-4205-fbea-eab114ebbed2"
      },
      "source": [
        "dir(a)  # Elimizde ki veri tiplerinin hangi metotlarla uygulanabileceğini bulabiliriz. "
      ],
      "execution_count": null,
      "outputs": [
        {
          "output_type": "execute_result",
          "data": {
            "text/plain": [
              "['__add__',\n",
              " '__class__',\n",
              " '__contains__',\n",
              " '__delattr__',\n",
              " '__dir__',\n",
              " '__doc__',\n",
              " '__eq__',\n",
              " '__format__',\n",
              " '__ge__',\n",
              " '__getattribute__',\n",
              " '__getitem__',\n",
              " '__getnewargs__',\n",
              " '__gt__',\n",
              " '__hash__',\n",
              " '__init__',\n",
              " '__init_subclass__',\n",
              " '__iter__',\n",
              " '__le__',\n",
              " '__len__',\n",
              " '__lt__',\n",
              " '__mod__',\n",
              " '__mul__',\n",
              " '__ne__',\n",
              " '__new__',\n",
              " '__reduce__',\n",
              " '__reduce_ex__',\n",
              " '__repr__',\n",
              " '__rmod__',\n",
              " '__rmul__',\n",
              " '__setattr__',\n",
              " '__sizeof__',\n",
              " '__str__',\n",
              " '__subclasshook__',\n",
              " 'capitalize',\n",
              " 'casefold',\n",
              " 'center',\n",
              " 'count',\n",
              " 'encode',\n",
              " 'endswith',\n",
              " 'expandtabs',\n",
              " 'find',\n",
              " 'format',\n",
              " 'format_map',\n",
              " 'index',\n",
              " 'isalnum',\n",
              " 'isalpha',\n",
              " 'isascii',\n",
              " 'isdecimal',\n",
              " 'isdigit',\n",
              " 'isidentifier',\n",
              " 'islower',\n",
              " 'isnumeric',\n",
              " 'isprintable',\n",
              " 'isspace',\n",
              " 'istitle',\n",
              " 'isupper',\n",
              " 'join',\n",
              " 'ljust',\n",
              " 'lower',\n",
              " 'lstrip',\n",
              " 'maketrans',\n",
              " 'partition',\n",
              " 'replace',\n",
              " 'rfind',\n",
              " 'rindex',\n",
              " 'rjust',\n",
              " 'rpartition',\n",
              " 'rsplit',\n",
              " 'rstrip',\n",
              " 'split',\n",
              " 'splitlines',\n",
              " 'startswith',\n",
              " 'strip',\n",
              " 'swapcase',\n",
              " 'title',\n",
              " 'translate',\n",
              " 'upper',\n",
              " 'zfill']"
            ]
          },
          "metadata": {
            "tags": []
          },
          "execution_count": 4
        }
      ]
    },
    {
      "cell_type": "code",
      "metadata": {
        "id": "XVo1DQxrSOyg",
        "colab": {
          "base_uri": "https://localhost:8080/",
          "height": 36
        },
        "outputId": "a7098628-3cb3-4972-e814-713226ff837f"
      },
      "source": [
        "# SUBSTRING \n",
        "a[1] # a'nın 1'e karşılık gelen karakterni döndürür. Index'lerden yararlanıyoruz. 0'dan başlamaktadır. \n",
        "#a[22]  # Elimizde bu kadar karakter olmadığı için hata döndürecektir.                                       - INDEXERROR \n",
        "a[0:4] # Burada 0'dan başla 4'e kadar ama 4 dahil değil demiş oluyoruz. O yüzden ekrana 'gele' yazdıraaktır.  "
      ],
      "execution_count": null,
      "outputs": [
        {
          "output_type": "execute_result",
          "data": {
            "application/vnd.google.colaboratory.intrinsic+json": {
              "type": "string"
            },
            "text/plain": [
              "'gele'"
            ]
          },
          "metadata": {
            "tags": []
          },
          "execution_count": 5
        }
      ]
    },
    {
      "cell_type": "markdown",
      "metadata": {
        "id": "soWxp7K_TiRf"
      },
      "source": [
        "**Değişkenler, Tip Dönüşümleri ve PRINT() Fonksiyonu :**\n",
        "\n",
        "Python programlama dilinde oluşturduğumuz her şey bir Nesne'dir.\n",
        "\n",
        "Fonksiyonların genel amaçlarını biçimlerndirmek için kullanılan alt görev belirtecine **argüman** denir. "
      ]
    },
    {
      "cell_type": "code",
      "metadata": {
        "id": "aEscD2GkT20M"
      },
      "source": [
        "type(100)\n",
        "type(100.2)\n",
        "type(2+3j) # complex\n",
        "\n",
        "b = 90.2 # Değişken Tanımlamak\n",
        "\n",
        "sayi1 = input() # INPUT Fonksiyonu kullanıcan bilgi almak için kullanılır. \n",
        "sayi2 = input()\n",
        "type(sayi1) # Ben şnt bir değer verdim ama str bir değer dönüyor. \n",
        "sayi1 + sayi2 # İki ifadeyi Toplama işlemi yapmıyor. String döndürdüğü için Birleştirme işlemi yapıyor. \n",
        "\n",
        "#PEKİ BEN INT BİR DEĞER GİRDİĞİMDE NASIL SONUÇ ALABİLİRİM? \n",
        "int(sayi1) + int(sayi2) # Bu şekilde str olan bir değişkeni int dönüştürebiliyoruz. \n",
        "\n",
        "int(11.9) # Float bir değişkende virgülden sonrasını görmek istemediğimiz zaman bu şekilde int bir dönüşüm yapabilriz. \n",
        "float(12) # Int bir değişkeni Float hale çeviriyor. Çıktı : 12.0 \n",
        "str(12) # Int bir ifadeyi String bir hale dönüştürüyor. Çıktı : '12'\n",
        "str(14.56) # Yukarıdaki dururmun aynısı Float dönüştürme içinde geçerlidir. \n",
        "\n",
        "\n",
        "print(\"geleceği\", \"yazanlar\") # Çıktı : geleceği yazanlar\n",
        "print(\"geleceği\", \"yazanlar\", sep =\"_\") # İçinde yazılı olan ifadeyi _ ile birleştirir. \n",
        "?print() # Yardım.  "
      ],
      "execution_count": null,
      "outputs": []
    },
    {
      "cell_type": "code",
      "metadata": {
        "colab": {
          "base_uri": "https://localhost:8080/"
        },
        "id": "ugEFVyXdl-q-",
        "outputId": "95b36fc6-7139-4be5-a118-c6424f9127b8"
      },
      "source": [
        "print(\"mina\")"
      ],
      "execution_count": null,
      "outputs": [
        {
          "output_type": "stream",
          "text": [
            "mina\n"
          ],
          "name": "stdout"
        }
      ]
    },
    {
      "cell_type": "markdown",
      "metadata": {
        "id": "zonVg6JOYWZl"
      },
      "source": [
        "# PYTHON : VERİ YAPILARI (DATA TYPES)"
      ]
    },
    {
      "cell_type": "markdown",
      "metadata": {
        "id": "CznH8wCXHN8b"
      },
      "source": [
        "**Listeler :** \n",
        "\n",
        "- Değiştirilebilir.\n",
        "- Kapsayıcıdır.\n",
        "- Sıralıdır. \n",
        "\n",
        "Python'da liste oluşturmak için 2 yolumuz var : \n",
        "1. [  ] ifadesi.\n",
        "2. list() fonksiyonu.\n",
        "\n",
        "Liste bir Üst Tiptir. Yani içerinde string ya da integer bir ifade nulunabilir ama type() fonkdiyonunda döndürdüğümüz zaman list olarak karşımıza çıkacaktır. "
      ]
    },
    {
      "cell_type": "code",
      "metadata": {
        "id": "9oLOSGaKcw_j"
      },
      "source": [
        "# Bir grup öğrencnin sınavda aldığı notları köşeli parantez yöntemiyle oluşturalım :\n",
        "notes = [90, 80, 75, 65, 92]\n",
        "type(notes) #list\n",
        "type(notes[1]) # İçinde ki bir veriyi sorguladığımız zaman int değer olduğunu görmekteyiz.\n",
        " \n",
        "list1 = [\"a\", 12, 23.5]\n",
        "type(list1) # list dönecektir.\n",
        "type(list1[0]) # str\n",
        "type(list1[1]) # int\n",
        "type(list1[2]) # float\n",
        "#type(list1[3])              # -INDEXERROR \n",
        "len(list1) # 3 \n",
        " \n",
        "list2 = [\"a\", 12, 23.5, notes]\n",
        "len(list2) # 4 eleman döndürecektir. notesun içindekileri saymayacaktır. Listenin tamamını eleman olarak görmektedir. \n",
        "list2[3] # tek bir eleman şeklinde gözükür ama elemanımız bşr listedir. \n",
        "type(list2[3]) #list döndürür. \n",
        " \n",
        "list3 = [list1, list2]\n",
        "list3                   # [['a', 12, 23.5], ['a', 12, 23.5, [90, 80, 75, 65, 92]]] Bu şekilde bir çıktı üretir. Listeleri tekrar bir list'in içine sokuyoruz. \n",
        " \n",
        "#del list3  # SİLME İŞLEMİ.."
      ],
      "execution_count": null,
      "outputs": []
    },
    {
      "cell_type": "markdown",
      "metadata": {
        "id": "DkupnwpoLL7s"
      },
      "source": [
        "**Liste Eleman İşlemleri :**\n",
        "\n",
        " LİSTENİN ELEMANLARINA ERİŞMEK :"
      ]
    },
    {
      "cell_type": "code",
      "metadata": {
        "id": "t-9bCsFrLSIm"
      },
      "source": [
        "list4 = [10, 20, 30, 40, 50]\n",
        "list4[0]\n",
        "list4[1:3] # 1 den başla 3'e kadar. 3. eleman dahil değil\n",
        "list4[:3] # En baştan başla 3'e kadar. 3. eleman dahil değil. \n",
        "list4[3:] # 3'ten başla 3 dahil sona kadar. \n",
        "\n",
        "list5 = [\"a\",10, [20, 30, 40, 50]]\n",
        "list5[2] # Burada lst olan elemana ulaştık. Peki ben bunun içinde ki elemanlara nasıl ulaşacağım ?\n",
        "list5[2][2] #40 sonucunu elde edeceğiz. "
      ],
      "execution_count": null,
      "outputs": []
    },
    {
      "cell_type": "markdown",
      "metadata": {
        "id": "IrxStuiYVdO9"
      },
      "source": [
        "LİSTEYE ELEMAN EKLEMEK, DEĞİŞTİRMEK, SİLMEK : "
      ]
    },
    {
      "cell_type": "code",
      "metadata": {
        "id": "xNolzg3AVgxZ"
      },
      "source": [
        "list6 = [\"ali\", \"veli\", \"berkcan\", \"ayşe\"]\n",
        "list6[1] = \"velinin babası\" # Veli yerine artık Velinin babası yazmaktadır. \n",
        "list6[0:3] = \"alinin babası\", \"velinin babası\", \"berkcanın babası\"  # 0'dan 3'e kadar tüm değişkenlere yazdıklarımızı atamaktadır. \n",
        " \n",
        "list6 +[\"kemal\"] # Bir ekleme işlemi yapıyor ama atama işlemi gerçekleştiriliyor. Kalıcı olarak bir atama yapılmıyor. \n",
        "list6 = list6 +[\"kemal\"] # Artık kalıcı olarak Kemal ismi eklenmiştir. \n",
        "del list6[2] # Belirttiğimiz index'teki veriyi silmektedir."
      ],
      "execution_count": null,
      "outputs": []
    },
    {
      "cell_type": "markdown",
      "metadata": {
        "id": "ZfLTpzulWOD_"
      },
      "source": [
        "METOTLAR İLE ELEMAN EKLEMEK :"
      ]
    },
    {
      "cell_type": "code",
      "metadata": {
        "id": "UfSN3Ta8WR9x"
      },
      "source": [
        "list7 = [\"ali\", \"veli\", \"isik\"]\n",
        "dir(list7) # bize bu listede neler ypabileceğimizi gösteriyor. Yanları çizgili olanları kullanmıyoruz. \n",
        "\n",
        "# Yeniden atama işlemi yapmadan eleman ekledik. Kalıcı bir değşklik gerçekleştirdik.  \n",
        "list7.append(\"kemal\") # sonuna kemal ismi ekleniyor. \n",
        "\n",
        "# Silmek istiyorsak,\n",
        "list7.remove(\"kemal\") # İçine yazılı olan veriyi silmiş olduk. \n",
        "list7"
      ],
      "execution_count": null,
      "outputs": []
    },
    {
      "cell_type": "markdown",
      "metadata": {
        "id": "rajTlxWfgQ6P"
      },
      "source": [
        "İNDEKSE GÖRE, ELEMAN EKLEME ve SİLME : \n",
        "\n",
        "insert() metodu herhangi bir elemanın yerine yazılmıyor. Eleman atama yönteminden farklı. bir sıra kaydırılıyormuş gibi düşünüleblinir. "
      ]
    },
    {
      "cell_type": "code",
      "metadata": {
        "id": "Nt9yKB5LgVOZ"
      },
      "source": [
        "# Listemin herhangi bir elemanına veri eklemek istiyoruz :\n",
        "list8 = [\"ali\", \"veli\", \"isik\"]\n",
        "list8.insert(1, \"eda\") \n",
        "list8.insert(4, \"aleyna\") # mesela 4 boyutlu bir dizide 5. boyutu eklemek istiyoruz. Normal atama metodunda hata alacaktık. Ama bu metod ile ekleme yapabiliyoruz. \n",
        "\n",
        "# Peki otomatik olarak ben son elemana nasıl ekleme yapabilirim? Tüm indexleri sayacak mıyım ? Hayır : \n",
        "list8.insert(len(list8), \"elif\") # len(list8) bana listenin boyurunu döndürüyor yani bir bakıma son indeksi sunuyor. \n",
        "\n",
        "# Listeden eleman silmek istiyorsam;\n",
        "list8.pop(4) # burada hangi elemanın da silindiğini ekrana yazddırıyor. Bu yüzden dikkatli bakmalıyız. "
      ],
      "execution_count": null,
      "outputs": []
    },
    {
      "cell_type": "markdown",
      "metadata": {
        "id": "if3xf2kyjS72"
      },
      "source": [
        "DİĞER LİSTE METOTLARI : "
      ]
    },
    {
      "cell_type": "code",
      "metadata": {
        "id": "0PhMaZ6GjVE_"
      },
      "source": [
        "list9 = [\"ali\", \"veli\", \"isik\",\"ali\", \"veli\" ]\n",
        "list9.count(\"ali\") # Listenin içinde kaç adet Ali ismi bulunmaktadır, bie bunu verir.\n",
        "\n",
        "list9_yedek = list9.copy() # bize ilk listenin bir kopyasını verir. \n",
        "\n",
        "list9.extend(list9_yedek) # İki listeyi birleştiren metot. \n",
        "\n",
        "list9.index(\"veli\") #Aradığımız hangi indexte olduğunu bize verir. Ama şuna dikkat etmeliyiz!!! Eğer tekrarlayan bir veriyse sadece ilk gördüğünü bize verir. \n",
        "\n",
        "list9.reverse() # listeyi tersine çeviren br metot.\n",
        "\n",
        "list9.sort() # Sıralama yapmak için kullanılır.  Küçükten-Büyüğe Doğru\n",
        "\n",
        "list9.clear() # Listenin içini temizler. "
      ],
      "execution_count": null,
      "outputs": []
    },
    {
      "cell_type": "markdown",
      "metadata": {
        "id": "jEM0aNMRpuew"
      },
      "source": [
        "**TUPLE :** \n",
        "- Değiştirilemez!!!\n",
        "- Kapsayıcıdır.\n",
        "- Sıralıdır. \n",
        "\n",
        "Python'da tuple oluşturmak için 2 yolumuz var :\n",
        "\n",
        " 1. [] ifadesi.\n",
        " 2. tuple() fonksiyonu.\n",
        "\n"
      ]
    },
    {
      "cell_type": "code",
      "metadata": {
        "id": "jgOTahHYpwje"
      },
      "source": [
        "t = (\"ali\",\"veli\", 1,3,3.4, [3,4,5]) # Tuple -1\n",
        "t = \"ali\",\"veli\", 1,3,3.4, [3,4,5] # Tuple -2 \n",
        "type(t) \n",
        "\n",
        "t = (\"eleman\")\n",
        "type(t)  # String döndürür. \n",
        "# Tek elemanlı tuple'larda dikkat etmemiz gereken bir nokta vardır. Normalde tuple olduğunu biliyoruz ama sistem str okuyor. \n",
        "t = (\"eleman\",) # Eğer sonuna virgül koyarsak sistem bunu tuple olara algılamaktadır. "
      ],
      "execution_count": null,
      "outputs": []
    },
    {
      "cell_type": "markdown",
      "metadata": {
        "id": "WAUsStKCu7HP"
      },
      "source": [
        "TUPLE ELEMAN İŞLEMLERİ :\n"
      ]
    },
    {
      "cell_type": "code",
      "metadata": {
        "id": "zQyr0Ya0u_h5"
      },
      "source": [
        "t = (\"ali\",\"veli\", 1,3,3.4, [3,4,5])\n",
        "t[1] # 'veli' döndürür. Listelerle aynıdır. \n",
        "t[0:3] # 'dan 3'e kadar. \n",
        "\n",
        "# t[2] = 99      # TYPEERROR (Değiştirilemezler...)"
      ],
      "execution_count": null,
      "outputs": []
    },
    {
      "cell_type": "markdown",
      "metadata": {
        "id": "oJwHgQi8vyJm"
      },
      "source": [
        "**SÖZLÜK :** \n",
        "\n",
        "- Değiştirilebilir.\n",
        "- Kapsayıcıdır.\n",
        "- Sırasızdır.\n",
        "\n",
        "\n",
        "Listelerde ki gibi index işlemi gerçekleştirilemez.\n",
        "\n",
        "key : sabitliğinden endişe etmemeiz gereken referans değerlerdir. "
      ]
    },
    {
      "cell_type": "code",
      "metadata": {
        "id": "W_LpoIggwBAD"
      },
      "source": [
        "sozluk = {\"REG\" : \"Regresyon Modeli\" ,\n",
        "          \"LOJ\" : \"Lojistik Regresyon\",\n",
        "          \"CART\" : \"Classification and Reg\"}\n",
        "sozluk # ilk değerler key değerleri, ikinci kısım ise key değerlerinin ne olduğununbize verir. \n",
        "len(sozluk) # 3 eleman vardır.\n",
        "\n",
        "sozluk = {\"REG\" : [\"Regresyon Modeli\",10] ,\n",
        "          \"LOJ\" : [\"Lojistik Regresyon\",20],\n",
        "          \"CART\" : [\"Classification and Reg\",30]}\n",
        "sozluk # Tek açıklamadan oluşmak zorunda değildir. Liste şeklinde oluşturulabilir. "
      ],
      "execution_count": null,
      "outputs": []
    },
    {
      "cell_type": "markdown",
      "metadata": {
        "id": "ExMjsn9syopP"
      },
      "source": [
        "SÖZLÜK ELEMAN SEÇME İŞLMELERİ :"
      ]
    },
    {
      "cell_type": "code",
      "metadata": {
        "id": "CoR0SEsWyrhQ"
      },
      "source": [
        "sozluk = {\"REG\" : \"Regresyon Modeli\" ,\n",
        "          \"LOJ\" : \"Lojistik Regresyon\",\n",
        "          \"CART\" : \"Classification and Reg\"}\n",
        "#sozluk[0]    # - KEYERROR \n",
        "#Sırasız olduğu çin kalsik indexleme mantığı ile verilere ulaşamayız. \n",
        "\n",
        "sozluk[\"REG\"] # Bu şekilde sorgulama yapabiliriz. \n",
        "\n",
        "# Sözlük içinde Sözlük Oluşturulması : \n",
        "sozluk = {\"REG\": {\"RMSE\" : 10,\n",
        "                  \"MSE\" : 20,\n",
        "                  \"SSE\" : 30},\n",
        "          \"LOJ\": {\"RMSE\" : 10,\n",
        "                  \"MSE\" : 20,\n",
        "                  \"SSE\" : 30},\n",
        "          \"CART\": {\"RMSE\" : 10,\n",
        "                  \"MSE\" : 20,\n",
        "                  \"SSE\" : 30}}\n",
        "sozluk[\"REG\"][\"MSE\"] # Sözlük içinde sözlüğün aldığuı ifadeye erişmek istersem.."
      ],
      "execution_count": null,
      "outputs": []
    },
    {
      "cell_type": "markdown",
      "metadata": {
        "id": "XbwCkF7f0Y_b"
      },
      "source": [
        "SÖZLÜK ELEMAN EKLEME ve DEĞİŞTİRME : "
      ]
    },
    {
      "cell_type": "code",
      "metadata": {
        "id": "QxsoVcPr0b8m",
        "colab": {
          "base_uri": "https://localhost:8080/"
        },
        "outputId": "da9e6861-631b-412e-a89e-665f99cf0938"
      },
      "source": [
        "sozluk = {\"REG\" : \"Regresyon Modeli\" ,\n",
        "          \"LOJ\" : \"Lojistik Regresyon\",\n",
        "          \"CART\" : \"Classification and Reg\"}\n",
        "\n",
        "sozluk[\"GBM\"] = \"Gradient Bososting Mac\"    # Sözlüğe eleman ekleme işlemi \n",
        "sozluk[\"REG\"] = \"Çoklu Doğrusal Regresyon\" # REG adlı keyifadesinn açıklamasını değiştiriyouz. Yeni bir bilgi atıyoruz. \n",
        "# Olay şu şekilde gerçekleşiyor, eğer parantez içerisindeki eleman yoksa yeni bir key elemanı olurşturayım, varsa ve value değiştirmem gerekiyorsa yeni bir atama yapayım. \n",
        "\n",
        "sozluk[1] = \"Yapay Sinir Ağları \" # Hata vermiyor yen bir key olarak algılıyor.\n",
        "\n",
        "sozluk[\"REG\"] = [30,40 ]\n",
        "sozluk[\"REG\"][1] "
      ],
      "execution_count": null,
      "outputs": [
        {
          "output_type": "execute_result",
          "data": {
            "text/plain": [
              "40"
            ]
          },
          "metadata": {
            "tags": []
          },
          "execution_count": 7
        }
      ]
    },
    {
      "cell_type": "code",
      "metadata": {
        "id": "A0c-o3V9AUcV"
      },
      "source": [
        "l = [1,2]\n",
        "# sozluk[l] = \"Yeni bir şeyler\"  # -TYPEERROR \n",
        "# Sözlüklerdeki key yapıları sadece sabit ver yapıları ile oluşturulabilir. \n",
        "t = (\"eleman\",\"ekşi\")\n",
        "sozluk[t] = \"yeni\"   \n"
      ],
      "execution_count": null,
      "outputs": []
    },
    {
      "cell_type": "markdown",
      "metadata": {
        "id": "I3tMScI6ADqG"
      },
      "source": [
        "SET (KÜME) OLUŞTURMAK : \n",
        "\n",
        "\n",
        "- Değiştirilebilir.\n",
        "- Farklı tipleri barındırabilir. \n",
        "- Sırasızdır.\n",
        "- Değerleri eşsizdir."
      ]
    },
    {
      "cell_type": "code",
      "metadata": {
        "id": "k2Pg5OD-AF-g"
      },
      "source": [
        "s = set() #set fonksiyonu oluşturur. \n",
        "l = [1, 2, \"ali\", \"veli\", 9.5]\n",
        "s= set(l) # liste üzerinden set oluştutuldu. \n",
        "\n",
        "t= (\"ali\",\"veli\")\n",
        "s = set(t) #Tuple üzerinden set oluşturuldu. \n",
        "\n",
        "ali = \"al_kütfen_ata_bakma\"\n",
        "s=set(ali) #Tüm harfleri bir kez kullanır ve artık bunlar harf değil karakterdir. ve sırayla alır. \n",
        "s"
      ],
      "execution_count": null,
      "outputs": []
    },
    {
      "cell_type": "markdown",
      "metadata": {
        "id": "a5vQufAYld3T"
      },
      "source": [
        "SET : ELEMAN EKLEME ve ÇIKARMA "
      ]
    },
    {
      "cell_type": "code",
      "metadata": {
        "id": "sb2JLJx2lgbC"
      },
      "source": [
        "l = [\"geleceği\", \"yazanlar\"] #list\n",
        "s = set(l) # listeyi set haline çevirdik. \n",
        "\n",
        "# dir(s) kullanarak bir çok metoda erişim sağlayabiliriz. \n",
        "s.add(\"ile\") # sırasız oldukları için bağımsız olarak yerleştiriliyor\n",
        "\n",
        "# Var olan bir değeri ikinci kez eklemek istesek bu elemanın varlığından dolayı yeniden bir ekleme işlemi gerçekleştirememektedir. \n",
        "s.remove(\"ile\") #Silme işlemini gerçekleştirdik.\n",
        "# Aynı kodu ikinci kez yazarsak hata alacağız. Çünkü bu artık set'imizin içinde yok.  \n",
        "#s.remove(\"ile\")                              #             - KEYERROR\n",
        "\n",
        "# Peki silindi ve ben ikinci kez yazıyorum ama hata almak istemiyorum. Kod şemamda bir bozukluk olmasın istiyorsam :\n",
        "s.discard(\"ile\") # Uyarı vermiyor. Silinecek bir şey yok diyor. "
      ],
      "execution_count": null,
      "outputs": []
    },
    {
      "cell_type": "markdown",
      "metadata": {
        "id": "_r_-xRiBm5cA"
      },
      "source": [
        "SET : FARK İŞLEMLERİ \n",
        "\n",
        "- **difference()** : ya da \"-\" sembolü,iki kümenin farkını alır.\n",
        "- **intersection()** :ya da \"&\" sembolü, iki kümenin kesişimini alır. \n",
        "- **union()** : iki kümenin birleşimini alır.\n",
        "- **symmetric_difference()** : ikisinde de olmayan elemanları alır. "
      ]
    },
    {
      "cell_type": "code",
      "metadata": {
        "id": "uJtLKuzom7hX"
      },
      "source": [
        "# KLASİK KÜME İŞLEMLERİ :\n",
        "set1 = set([1,3,5])\n",
        "set2 = set([1,2,3])\n",
        "\n",
        "#FARK İŞLEMİ :\n",
        "#Set1'de olup set2'de olmayan değerleri ekrana çıkarıyor\n",
        "set1.difference(set2) # çıktı : {5} şekliinde olacaktır. \n",
        "set1 - set2  #Aynı sonucu elde edeceğiz.\n",
        "\n",
        "#Set2'de olup set1'de olmayan değerleri ekrana çıkarıyor\n",
        "set2.difference(set1) # çıktı : {2} şekliinde olacaktır. \n",
        "set2 - set1  #Aynı sonucu elde edeceğiz.\n",
        "\n",
        "# Biz burada tek tek gözlemledik peki ben aynı anda gözlemlemek istiyorsam:\n",
        "set1.symmetric_difference(set2)  #  çıktı : {2,5} şekliinde olacaktır. Her ikisini de ekrana yazdırıyor. \n",
        "\n",
        "#KESİŞİM İŞLEMİ : \n",
        "set1.intersection(set2)  #  çıktı : {1,3} şekliinde olacaktır. \n",
        "set2.intersection(set1) # Aynı değerler dönecektir. \n",
        "set1 & set2  #Aynı sonucu elde edeceğiz.\n",
        "\n",
        "# Burada biz elemanların sadece değerlerine ulaşıyoruz. Eğer bunları saklamak istersek :\n",
        "kesisim = set1.intersection(set2) # şeklinde yazabiliriz. \n",
        "\n",
        "#BİRLEŞİM İŞLEMİ :\n",
        "set1.union(set2)  #  çıktı : {1,2,3,5} şekliinde olacaktır.Her bir elemanı bir defa alacaktır. \n",
        "birlesim = set1.union(set2)\n",
        "\n",
        "set1.intersection_update(set2) # Artık set1 dediğimiz ifade kesişimde elde ettiğimiz değerleri içerir. Yani yeniden bir atama işlemi yapmak yerine update ediyoruz. \n",
        "set1\n"
      ],
      "execution_count": null,
      "outputs": []
    },
    {
      "cell_type": "markdown",
      "metadata": {
        "id": "VaAwPs_wq__o"
      },
      "source": [
        "SET : SORGU İŞLEMLERİ : "
      ]
    },
    {
      "cell_type": "code",
      "metadata": {
        "colab": {
          "base_uri": "https://localhost:8080/"
        },
        "id": "xfiuZtA4rECU",
        "outputId": "cac5bcbe-d9aa-4a30-be47-1dcd02396349"
      },
      "source": [
        "set1 = set([7,8,9])\n",
        "set2 = set([5,6,7,8,9])\n",
        "\n",
        "# İki kümenn kesişimi boş mu ? :\n",
        "set1.isdisjoint(set2)  # False. Hayır boş değil. \n",
        "\n",
        "# Bir kümenin bütün elemanları başka kümenin içinde yer alıyor mu? \n",
        "set1.issubset(set2) # True. Evet tüm elemanlar yer alıyor.  set1, set2'nin alt kümesi. \n",
        "\n",
        "# Bir küme diğer kümeyi kapsıyor mu? \n",
        "set2.issuperset(set1) # True. set2, set1'i kapsıyor mu? "
      ],
      "execution_count": null,
      "outputs": [
        {
          "output_type": "execute_result",
          "data": {
            "text/plain": [
              "2"
            ]
          },
          "metadata": {
            "tags": []
          },
          "execution_count": 25
        }
      ]
    },
    {
      "cell_type": "markdown",
      "metadata": {
        "id": "H4-bfGHGYcky"
      },
      "source": [
        "# PYTHON : FONKSİYONLAR, KARAR-KONTROL YAPILARI, DÖNGÜLER"
      ]
    },
    {
      "cell_type": "code",
      "metadata": {
        "id": "qm_NBs-Ccxmk"
      },
      "source": [
        "# ?print  : Fonksiyonların dökümantasyonunu elde ederiz.\n",
        "\n",
        "print(\"a\", \"b\", sep=\"_\")  # Değerlerin arasına bir string ifade yerleştiriliyor : sep= \" \" \n",
        "# print() : Argümansız çalışır.\n",
        "\n",
        "# len()  # - TYPEERROR  bir argüman alır ama sen 0 tane verdin diyor. \n",
        "len(\"a\") # çıktı : 1. Argümansız çalışmaz."
      ],
      "execution_count": null,
      "outputs": []
    },
    {
      "cell_type": "markdown",
      "metadata": {
        "id": "bxBcjLHMwhPb"
      },
      "source": [
        " **FONKSİYON NASIL YAZILIR?**\n",
        "\n",
        " - **def** : python sana fonksiyon tanımlıyorum \n",
        " - **name_of_func** : fonksiyonumu isimlendiriyorum \n",
        " - **\"(arg) :\"** : ve fonksiyonuma bağlı olarak argüman  oluşturuyorum.\n",
        " - Bir alt satıra inerken otomatik boşluk oluşması gerekiyor. Bu boşluk fonksiyona ait bir işlem yaptığımız anlamın agelmektedir.\n"
      ]
    },
    {
      "cell_type": "code",
      "metadata": {
        "id": "6jh2g0XmwjCL"
      },
      "source": [
        "# Kare alma işlemi :\n",
        "3**2    # 3'ün 2. dereceden kuvvetini ekrana yazdırır.\n",
        "\n",
        "def kare_al(x) :\n",
        "  print(x**2) # Ekrana yazdırmak istiyorsak print ifadesini kullanmak zorundayız.\n",
        "kare_al(4) \n",
        "\n",
        "def kare_al(x) :\n",
        "  print(\"Girilen sayının karesi :\" + str(x**2)) # -TYPEEEROR verir. Tip dönüşümü yapılır. \n",
        "kare_al(5) \n",
        "\n",
        "def kare_al(x) :\n",
        "  print(\"Girilen sayı: \" +str(x)+ \"\\n\"+ \"ve sayısının karesi :\" + str(x**2)) # \"\\n\" : bir alt satıra geçer. \n",
        "kare_al(2) "
      ],
      "execution_count": null,
      "outputs": []
    },
    {
      "cell_type": "markdown",
      "metadata": {
        "id": "pflKaeqN0uSo"
      },
      "source": [
        "İKİ ARGÜMANLI FONKSİYON TANIMLAMAK : "
      ]
    },
    {
      "cell_type": "code",
      "metadata": {
        "id": "w5kPftAU0pDi"
      },
      "source": [
        "def carpma(x,y):\n",
        "  print(x*y)\n",
        "carpma(5,2)\n",
        "\n",
        "# ÖN TANIMLI ARGÜMANLAR : \n",
        "\n",
        "def carpma(x,y=3):\n",
        "  print(x*y)\n",
        "carpma(5)  # Y değerini önceden 3 belirlediğimiz için. \n",
        "carpma(y=2, x=4) # Sıralamalarını bilmesek bile argümanların isimlerini yazarak onlara değer atayabiliriz."
      ],
      "execution_count": null,
      "outputs": []
    },
    {
      "cell_type": "code",
      "metadata": {
        "id": "Gs_aSy5wUIAT"
      },
      "source": [
        "# Örneğin, bir sokakta 100 adet lamba olsun ve bu lambalardan bir tanesinin ısı, nem, sarj özellikleririnin biligisine sahip olalım : \n",
        "#ısı : 40 \n",
        "#nem : 25 \n",
        "#şarj 90  olsun.\n",
        "# Kabaca bir matematik ifadesiyle;\n",
        "(40+25)/90 # sadece bir tanesi için yeterli bir matematik denklemiya bizim elimizde yüzlerce lamba varsa? \n",
        "\n",
        "def direk_hesap(isi, nem, sarj):\n",
        "  print((isi+nem)/sarj)\n",
        "direk_hesap(30,40,70)\n",
        "\n",
        "#Fonksiyonların çıktılarını direkt olarak kullanmak mümkün olmayabilir.  :\n",
        "c= direk_hesap(40,40,70) # Normalde atama yapamaması gerekir ama burada gerçekleşti ve hesaplandı. \n",
        "print(c) #None değer döndürecektir.\n",
        "# direk_hesap(40,40,70)*2          # - TYPEERROR  \n",
        "# c*2                   # - TYPEERROR  : hesaplıyor ama işlem yapmamımıza izin vermiyor. Büyük ihtimal yukarıda sürüm farkından kaynaklı bir durum oluşmaktadır. \n",
        "\n",
        "\n",
        "\n",
        "# PEKİ BEN BU VERİYE NASIL ERİŞECEĞİM ??\n",
        "\n",
        "def direk_hesap(isi, nem, sarj):\n",
        "  return (isi+nem)/sarj\n",
        "direk_hesap(40,40,70)*9 # 9 ile çarpmaya izin verildi. \n",
        "print(direk_hesap(40,40,70))\n",
        "\n",
        "# EN ÖNEMLİ NOKTA : Fonksiyon return ifadesini görünce durur. sonraki kodları çalıştırmaz. "
      ],
      "execution_count": null,
      "outputs": []
    },
    {
      "cell_type": "markdown",
      "metadata": {
        "id": "rLNQLA3xR0qL"
      },
      "source": [
        "LOCAL ve GLOBAL DEĞİŞKENLER "
      ]
    },
    {
      "cell_type": "code",
      "metadata": {
        "id": "mXnPN3SvR3ev"
      },
      "source": [
        "x =10 #global değişken \n",
        "y =20 #global değişken \n",
        "\n",
        "def carpma_yap(x,y) : # local değişken, fonksiyonun etki alanındadır. bunlar geçici değişkenlerdir. kalıcı bir işlem yapılmaz \n",
        "  return x*y\n",
        "carpma_yap(2,3) # çıktı : 6\n",
        "\n",
        "# LOCAL etki alanından GLOBAL etki alanını değiştirmek :\n",
        "x = []\n",
        "def eleman_ekle(y):\n",
        "  x.append(y)\n",
        "  print( y , \"ifadesi eklendi\")\n",
        "eleman_ekle(3)  # çıktı : 3 ifadesi eklendi\n",
        "x  # çıktı : [3]"
      ],
      "execution_count": null,
      "outputs": []
    },
    {
      "cell_type": "markdown",
      "metadata": {
        "id": "cJ4vId2VUfIP"
      },
      "source": [
        "**KARAR KONTROL YAPILARI**\n",
        "\n",
        "1. TRUE-FALSE SORGULAMALARI : Mantıksal Sorgulamalar. x **==** y "
      ]
    },
    {
      "cell_type": "code",
      "metadata": {
        "id": "L1bGnA7FUhu1"
      },
      "source": [
        "sinir = 5000\n",
        "sinir ==4000 # False \n",
        "sinir ==5000 # True "
      ],
      "execution_count": null,
      "outputs": []
    },
    {
      "cell_type": "markdown",
      "metadata": {
        "id": "So0jjxaWVGNi"
      },
      "source": [
        "2. IF , ELSE , ELIF YAPISI  : "
      ]
    },
    {
      "cell_type": "code",
      "metadata": {
        "id": "kO3Kl77mVKyg"
      },
      "source": [
        "sinir = 50000\n",
        "gelir = 60000\n",
        "\n",
        "if gelir < sinir :\n",
        "  print(\"Gelir sınırdan küçük. \") \n",
        "# if sorguladığı durumda TRUE döndürürse bir altındaki satırda yazılan kodu çalıştırır. \n",
        "\n",
        "\n",
        "if gelir < sinir :\n",
        "  print(\"Gelir sınırdan küçük. \") \n",
        "else :\n",
        "  print( \"Gelir sınırdan büyük\")  # çıktı : Gelir sınırdan büyük\n",
        "\n",
        "\n",
        "gelir1 = 60000\n",
        "gelir2 = 35000\n",
        "gelir3 = 50000\n",
        "\n",
        "#Gelir1 için çıktı : Tebrikler \n",
        "if gelir1 < sinir :\n",
        "  print(\"Uyarı!!!\")\n",
        "elif gelir1 > sinir :\n",
        "  print(\"Tebrikler\")\n",
        "else : \n",
        "  print(\"Takibe devam. \") \n",
        "\n",
        "#Gelir2 için çıktı : Uyarı!! \n",
        "if gelir2 < sinir :\n",
        "  print(\"Uyarı!!!\")\n",
        "elif gelir2 > sinir :\n",
        "  print(\"Tebrikler\")\n",
        "else : \n",
        "  print(\"Takibe devam. \") \n",
        "\n",
        "#Gelir3 için çıktı : Takibe devam. \n",
        "if gelir3 < sinir :\n",
        "  print(\"Uyarı!!!\")\n",
        "elif gelir3 > sinir :\n",
        "  print(\"Tebrikler\")\n",
        "else : \n",
        "  print(\"Takibe devam. \") "
      ],
      "execution_count": null,
      "outputs": []
    },
    {
      "cell_type": "code",
      "metadata": {
        "id": "L7hMs-KSVbx0"
      },
      "source": [
        "#UYGULAMA : \n",
        "\n",
        "sinir = 50000\n",
        "magaza = input(\"Mağazanın ismi nedir?\")\n",
        "gelir = int(input(\"Gelirinizi Giriniz : \"))\n",
        "\n",
        "if gelir > sinir :   # -TYPEERROR alacağız : string ve int bir değer karşılaştırması olacak. inputtan alınan değer str olarak okunuyor. \n",
        "  print(\"Tebrikler : \" , magaza ,  \" Promosyan kazandınız.\")\n",
        "elif gelir < sinir :\n",
        "  print(\"Uyarı!!\" , magaza , \"geliriniz : \", gelir)\n",
        "else :\n",
        "  prit(\"Takibe devam..\")"
      ],
      "execution_count": null,
      "outputs": []
    },
    {
      "cell_type": "markdown",
      "metadata": {
        "id": "24kxIv4_VebK"
      },
      "source": [
        "3. FOR DÖNGÜSÜ : "
      ]
    },
    {
      "cell_type": "code",
      "metadata": {
        "id": "dikPCiWcViTI"
      },
      "source": [
        "ogrenci = [\"ali\", \"veli\", \"berk\", \"isik\"]\n",
        "\n",
        "# for : dön\n",
        "# i : geçici değişken \n",
        "for i in ogrenci :\n",
        "    print(i) # hepsini alt alta yazdır. \n",
        "\n",
        " \n",
        "# Bütün maaşlara %20 zam uygula \n",
        "def yeni_maas(x):\n",
        "  print( x +(x*0.2) )\n",
        "for i in maaslar :\n",
        "  yeni_maas(i) \n",
        "\n",
        "\n",
        "\n",
        "maaslar = [1000,2000,3000,4000,5000]\n",
        "for i in maaslar :\n",
        "  if i <3000:\n",
        "    print(i +(i*0.2))\n",
        "  else :\n",
        "    print(i +(i*0.1))\n",
        "\n",
        "#Yukarıda ki örneği def ile yazılımı :\n",
        "\n",
        "def maas_alt(x):\n",
        "  print(x +(x*0.2))\n",
        "def maas_ust(x):\n",
        "  print(x +(x*0.1))\n",
        "for i in maaslar :\n",
        "  if i <3000:\n",
        "    maas_alt(i)\n",
        "  else :\n",
        "    maas_ust(i)\n"
      ],
      "execution_count": null,
      "outputs": []
    },
    {
      "cell_type": "markdown",
      "metadata": {
        "id": "rJ0AATc6P1mb"
      },
      "source": [
        "BREAK and CONTINUE and WHILE : "
      ]
    },
    {
      "cell_type": "code",
      "metadata": {
        "id": "P5vdWuqYOIs0"
      },
      "source": [
        "maaslar = [8000,5000,3000,1000,5000,7000,1000] \n",
        "#ben sadece 3000'den aşağıda olanmaaşlarla ilgilenmek istiyorum ama değerlerim sırasız :\n",
        "maaslar.sort()  # Artık tüm maailar sıralı \n",
        "\n",
        "for i in  maaslar :\n",
        "  if i == 3000 :\n",
        "    print(\"kesildi. \")\n",
        "    break # verilen değerden sonrası yazılmayacak işlem yapılamyacak. \n",
        "  print(i)\n",
        "\n",
        "for i in  maaslar :\n",
        "  if i == 3000 :\n",
        "    continue # kontrol ifadesine takıldığında bu sayıda işlem yapmayacak\n",
        "  print(i)\n",
        "\n",
        "sayi = 1\n",
        "while sayi <10 :\n",
        "  print(sayi) \n",
        "  sayi +=1 # 1 den başlar. \n",
        "#Eğer ilk kodu yazar sonra print dersek 2'den başlar. "
      ],
      "execution_count": null,
      "outputs": []
    },
    {
      "cell_type": "markdown",
      "metadata": {
        "id": "WbdpG-2NcfDk"
      },
      "source": [
        "# PYTHON : NESNE YÖNELİMLİ PROGRAMLAMA "
      ]
    },
    {
      "cell_type": "markdown",
      "metadata": {
        "id": "w_zNeRXmT0vD"
      },
      "source": [
        "Sınıflara Giriş (CLASS) ve Sınıf Tanımlamak :\n",
        "\n",
        "**Sınıflar :** benzer özelikler, ortak amaçlar taşıyan, içerisinde metot ve değişkanlar olan yapılardır. "
      ]
    },
    {
      "cell_type": "code",
      "metadata": {
        "id": "FL2aH8cXcyPF"
      },
      "source": [
        "# Sınıf Tanımlamak : \n",
        "\n",
        "class VeriBilimci():\n",
        "\n",
        "# Sınıf özellikleri (attributes) :\n",
        "  bölüm = \" \"\n",
        "  sql = \"Evet\"\n",
        "  deneyim_yili = 0\n",
        "  bildigi_diller = []\n",
        "\n",
        "VeriBilimci.sql # Bu şekilde sınıfların özelliklerine erişebiliyoruz. \n",
        "VeriBilimci.sql = \"Hayir\"  # Sınıf özelliklerni dışarıdan değiştirebiliyoruz. \n",
        "VeriBilimci.sql  # çıktı : Hayır \n",
        "\n",
        "# Sınıf Örneklendirmesi (instantiation) : \n",
        "\n",
        "ali = VeriBilimci() # Bu classın bütün özelliklerini taşır.\n",
        "ali.sql # çıktı : Hayır\n",
        "ali.deneyim_yili  # çıktı : 0 \n",
        "\n",
        "# Peki Ali'nin özellilerini nasıl değiştireceiz ya da ekleyeceğiz? \n",
        "ali.bildigi_diller.append(\"Python\")  #Burada yapılan bir değişiklik tüm sınıfı etkiler. \n",
        "\n",
        "veli = VeriBilimci()\n",
        "veli.sql # çıktı : Hayır\n",
        "veli.bildigi_diller  # çıktı : python. Ama biz veliye bir girdi sağlamadık ki?  "
      ],
      "execution_count": null,
      "outputs": []
    },
    {
      "cell_type": "markdown",
      "metadata": {
        "id": "0t5si0TgZfu9"
      },
      "source": [
        "Peki biz bunu nasıl düzelteceğiz? Örneklerin her birisine kendi içinde değişebilir özelliklerden oluştuğu bilgisini  Python'a vereceğiz.\n",
        "\n",
        "- **self :** örneklemleri temsil edeer. Temsilcidir. "
      ]
    },
    {
      "cell_type": "code",
      "metadata": {
        "id": "4aYLL1XUZtQt"
      },
      "source": [
        "class VeriBilimci() :\n",
        "\n",
        "#Sınıfımızın özelliğini tanımak için : \n",
        "  bildigi_diller = [\"R\", \"Python\"]\n",
        "  bölüm = \" \"\n",
        "  sql = \"Evet\"\n",
        "  deneyim_yili = 0\n",
        "# Örnek Özelliği tanımlayacağız. Bu class'ı etkilemiyor. \n",
        "  def __init__(self):\n",
        "    self.bildigi_diller = [] # Her bir örnek kendi içinde değişen özelliklerden oluşabilir bilgisi verilmektedir. \n",
        "    self.bölüm = \" \"\n",
        "ali = VeriBilimci()\n",
        "ali.bildigi_diller # çıktı : []\n",
        "\n",
        "veli = VeriBilimci()\n",
        "veli.bildigi_diller # çıktı : []\n",
        "\n",
        "ali.bildigi_diller.append(\"Python\")\n",
        "ali.bildigi_diller # çıktı : Python \n",
        "veli.bildigi_diller  # çıktı : []\n",
        "veli.bildigi_diller.append(\"R\")\n",
        "veli.bildigi_diller\n",
        "# VeriBilimci.bildigi_diller    #  - ATTRIBUTEERROR : 'VeriBilimci' has no attribute 'bildigi_diller'\n",
        "VeriBilimci.bildigi_diller  # çıktı : ['R', 'Python'] = sınıfa özellik tanımlarsak ekrana yazdırır. \n",
        "ali.bölüm = \"İstatistik\"\n",
        "veli.bölüm = \"End Müh\"\n",
        "ali.bölüm # çıktı : İstatistik\n",
        "veli.bölüm # çıktı : End Müh\n",
        "VeriBilimci.bölüm # çıktı : ' ' = Hiçbir şekilde sınıfın özelliklerini etkilemiyoruz. Örneklerin özelliklerinde değişiklikler yapabiliyoruz ama. "
      ],
      "execution_count": null,
      "outputs": []
    },
    {
      "cell_type": "markdown",
      "metadata": {
        "id": "WNiCiWiGfONP"
      },
      "source": [
        "Örnek Metodları :"
      ]
    },
    {
      "cell_type": "code",
      "metadata": {
        "id": "nQEGQlMYfQzo"
      },
      "source": [
        "class VeriBilimci() :\n",
        "  calisanlar = []\n",
        "  def __init__(self):\n",
        "    self.bildigi_diller = [] \n",
        "    self.bölüm = \" \"\n",
        "  def dil_ekle(self, yeni_dil) :  # önemli olan ilk ifadeye self koymak. \n",
        "    self.bildigi_diller.append(yeni_dil)\n",
        "\n",
        "\n",
        "ali = VeriBilimci()\n",
        "ali.bildigi_diller\n",
        "ali.bölüm\n",
        "\n",
        "veli = VeriBilimci()\n",
        "veli.bildigi_diller\n",
        "veli.bölüm\n",
        "\n",
        "VeriBilimci.dil_ekle  # çıktı : function __main__.VeriBilimci.dil_ekle\n",
        "# VeriBilimci.dil_ekle(\"R\")  #  - TYPEERROR  dil_ekle özelliğimiz yok o bir fonksiyon.\n",
        "ali.dil_ekle(\"R\")\n",
        "ali.bildigi_diller # çıktı : R\n",
        "\n",
        "veli.dil_ekle(\"Python\")\n",
        "veli.bildigi_diller # çıktı : Python "
      ],
      "execution_count": null,
      "outputs": []
    },
    {
      "cell_type": "markdown",
      "metadata": {
        "id": "BS1te-r__cY-"
      },
      "source": [
        "MİRAS YAPILARI (inheritance) : "
      ]
    },
    {
      "cell_type": "code",
      "metadata": {
        "id": "TGmhr5O-_eSt"
      },
      "source": [
        "class Employees() :\n",
        "  def __init__(self):\n",
        "    self.FirstName = \" \" \n",
        "    self.LastName = \" \"\n",
        "    self.Address = \" \"\n",
        "\n",
        "class DataScience(Employees) : # Diğer sınıfın özellikleri geliyor. \n",
        "  def __init__(self):\n",
        "    self.Programming = \" \" \n",
        "\n",
        "class Marketing(Employees) : # Diğer sınıfın özellikleri geliyor. \n",
        "  def __init__(self):\n",
        "    self.StoryTelling = \" \"   \n",
        "\n",
        "veribilimci1 = DataScience()\n",
        "veribilimci1.Programming # Sadece programming özelliği gelecek. "
      ],
      "execution_count": null,
      "outputs": []
    },
    {
      "cell_type": "markdown",
      "metadata": {
        "id": "ONlTLK-YNjl-"
      },
      "source": [
        "FONKSİYONEL PROGRAMLAMA : \n",
        "\n",
        "- Yan Etkisiz Fonksiyonlar : girdi-çıktı\n",
        "- Yüksek Seviye Fonksiyonlar\n",
        "- Vektörel Fonksiyonlar "
      ]
    },
    {
      "cell_type": "code",
      "metadata": {
        "colab": {
          "base_uri": "https://localhost:8080/"
        },
        "id": "SVRVAyriNggC",
        "outputId": "c3e48a19-e279-4f3a-8893-74869a1009aa"
      },
      "source": [
        "# YAN ETKİSİZ FONKSİYONLAR :\n",
        "\n",
        "A = 5\n",
        "def impure_sum(b):\n",
        "  return b + A \n",
        "def pure_sum(a,b):\n",
        "  return a+b\n",
        "\n",
        "impure_sum(6) # Foksiyonun dışardan bir bağımlılığı var. \n",
        "pure_sum(3,4) # girdi-çıktı örneği \n",
        "\n",
        "# İSİMSİZ FONKSİYONLAR : \n",
        "\n",
        "def old_sum(a,b):\n",
        "  return a+b\n",
        "\n",
        "new_sum = lambda a,b  : a+b\n",
        "new_sum(4,5) \n",
        "\n",
        "#Amacım liste içerisnde ki tuple ları sıralamak, \n",
        "sirasiz_liste= [(\"b\", 3), (\"a\", 8), (\"d\", 12), (\"c\", 1)]\n",
        "sorted(sirasiz_liste, key = lambda x : x[1]) # lambda fonksiyon tanımlamak çin kullanıldı tek satırlık fonksiyonluk şlemler \n",
        "# Atama işlemi yapmadan lambda ile fonksiyon işlemi yapılıyor. \n",
        "\n",
        "# VEKTÖREL OPERASYONLAR :\n",
        "# Nesneye Yönelik :\n",
        "a = [1,2,3,4]\n",
        "b = [2,3,4,5]\n",
        "ab = []\n",
        "for i in range(0,len(a)):\n",
        "  ab.append(a[i]*b[i]) #iki vektör arasında bir çarpma işlemi olmuştr. \n",
        "ab\n"
      ],
      "execution_count": null,
      "outputs": [
        {
          "output_type": "execute_result",
          "data": {
            "text/plain": [
              "[2, 6, 12, 20]"
            ]
          },
          "metadata": {
            "tags": []
          },
          "execution_count": 4
        }
      ]
    },
    {
      "cell_type": "code",
      "metadata": {
        "id": "91qFq2QMe3yH"
      },
      "source": [
        "import  numpy as np"
      ],
      "execution_count": null,
      "outputs": []
    },
    {
      "cell_type": "code",
      "metadata": {
        "id": "KbZluS7-e7du"
      },
      "source": [
        "# Vetörel fonksiyon: \n",
        "a = np.array([1,2,3,4])\n",
        "b = np.array([2,3,4,5])\n",
        "\n",
        "a*b # sadece numpy ile bunu daha kolay yazabiliriz. "
      ],
      "execution_count": null,
      "outputs": []
    },
    {
      "cell_type": "markdown",
      "metadata": {
        "id": "TfLeBmwbfaUQ"
      },
      "source": [
        "**MAP, FILTER, REDUCE :**\n",
        "\n",
        "Vektörel Özellikler"
      ]
    },
    {
      "cell_type": "code",
      "metadata": {
        "id": "E9u3kEyZfe0u"
      },
      "source": [
        "# MAP : \n",
        "liste = [1,2,3,4,5]\n",
        "for i in liste :\n",
        "  print(i+10)\n",
        "list(map(lambda x : x+10, liste)) # map  : verilen vektörün içerisinde belirli bir fonksiyonu çalıştırma imkannı verir. iSİMSİZDİR!!!\n",
        "\n",
        "\n",
        "#FILTER : \n",
        "liste = [1,2,3,4,5,6,7,8,9,10]\n",
        "# çift sayılara ulaşmak sitiyorum: \n",
        "list(filter(lambda x : x%2 ==0, liste)) #  2ye bölüp 0'mı diye sorguluyor.. \n",
        "# filter : şartın sağlandığı elmanları filtreler. \n",
        "\n",
        "#REDUCE : \n",
        "#indirgeme işlemi yapar.\n",
        "from functools import reduce \n",
        "liste1 = [1,2,3,4,5]\n",
        "reduce(lambda a,b : a+b, liste1) "
      ],
      "execution_count": null,
      "outputs": []
    },
    {
      "cell_type": "markdown",
      "metadata": {
        "id": "NgOLS-xbhvg9"
      },
      "source": [
        "**MODÜL OLUŞTURMAK :**\n",
        "\n",
        "\n",
        "HesapModülü.py adlı bir dosya oluturuldu.  Bu modülün içinde maaşın %20 si kar zam yapan bşr fonksiyon bulunmaktadır. Daha sonrasında başka bir paektimizde **import HesapModülü** yazdığımızda bu paketin fonksiyonlarını yüklemiş olacağız. \n",
        "\n",
        "- **HesapModülü.yeni_maas(1000)** kodunu çalıştırdığımız zaman bize girilen maaşın %20 zamlı halini verecektir. \n",
        "\n",
        "- Bu bize uzun geliyor daha kısa yazalım dersek : **import HesapModülü as hm** dersek **hm.yeni_maas(1000)** yazarak kodu da ısaltabiliriz. \n",
        "\n",
        "- Farklı bir kullanış türü olarak **from HesapModülü impoer yeni_maas** yani diyor ki hesapModülünden sadece yeni_maasş fonksiyonunu import et. o zaman sadece **yeni_maas(4000)** yazmak kodumuz için yeterli olaacaktır. \n",
        "\n",
        "- Mesela HesapModülü içine **maaslar = [1000,2000,3000,4000,5000]** isimli bir nesne oluşturalım. bu nesnemize **import HesapModülü as hm**  üzerinden **hm.maaslar** yazarak erişebiliyoruz. \n"
      ]
    },
    {
      "cell_type": "markdown",
      "metadata": {
        "id": "TWD1QVDhpuCI"
      },
      "source": [
        "**HATALAR - İSTİSNALAR :** "
      ]
    },
    {
      "cell_type": "code",
      "metadata": {
        "colab": {
          "base_uri": "https://localhost:8080/"
        },
        "id": "k37GFnfziLH3",
        "outputId": "9621cc87-497b-4d58-da66-1c45617b0bbf"
      },
      "source": [
        "a,b = 5,0\n",
        "# a/b  #   - ZERODİVİSİONERROR \n",
        "try :\n",
        "  print(a/b)\n",
        "except ZeroDivisionError:\n",
        "  print(\"Paydada Sıfır Olmaz\")"
      ],
      "execution_count": null,
      "outputs": [
        {
          "output_type": "stream",
          "text": [
            "Paydada Sıfır Olmaz\n"
          ],
          "name": "stdout"
        }
      ]
    },
    {
      "cell_type": "markdown",
      "metadata": {
        "id": "qHG2vVfdcl3b"
      },
      "source": [
        "# NUMPY"
      ]
    },
    {
      "cell_type": "code",
      "metadata": {
        "id": "U2NAqHsEcyza"
      },
      "source": [
        "import numpy as np"
      ],
      "execution_count": null,
      "outputs": []
    },
    {
      "cell_type": "code",
      "metadata": {
        "id": "sXxvBvooSfUq",
        "colab": {
          "base_uri": "https://localhost:8080/"
        },
        "outputId": "0472b763-4070-4fc9-8723-1671e98268bf"
      },
      "source": [
        "a = np.array([1,2,3,4])\n",
        "b = np.array([2,3,4,5])\n",
        "a*b # iki array'i kolayca çarpabiliyoruz.\n",
        "\n",
        "type(a)   # çıktı : numpy.ndarray\n",
        "np.array([2.15,3,4,5]) # Eğer array'im içinde double bir ifade varsa çıktı da tüm elemanlarım ondalıklı olarak gözükecektir.\n",
        "c= np.array([2.15,3,4,5])\n",
        "type(c[2]) # çıktı : numpy.float64  Normalde int olarak girdiğim bir değer arrayin içinde ki ondalık ifadeden dolayı float bir tipti çıktı verir. \n",
        "\n",
        "#Peki ben çıktıda verilerim int olarak gelmesini istiyorsam ?\n",
        "np.array([2.15,3,4,5], dtype=\"int\") #  çıktı : array([2, 3, 4, 5])\n",
        "\n",
        "# Sıfırdan nasıl array oluşturabilirim? \n",
        "np.zeros(10)  # float tipinde 10 adet 0. eleman döndrür.\n",
        "np.ones((3,5), dtype=\"int\")   # int tipinde 3x5 matrisli, 1 elemanına sahip bir array döndürüyor. \n",
        " \n",
        "np.full((5,5), 2)  # Belli bir matris boyunda  verdiğimiz sayıyı doldurur.\n",
        "np.arange(0,31,3) # 0'dan bşla 31'3 kadar üçer üçer ilerle\n",
        "np.linspace(0,1,10)  # 0'dan başla 1'e kadar 10 adet sayı gösterir. \n",
        "\n",
        "np.random.normal(10,4,(3,4)) # Ortlaması 10 standart sapması 4 olan 3x4 lük rastgele sayılarla oluştrulmuş matris. \n",
        "np.random.randint( 1,10,(2,3))  # Sadece int değerlerden oluşan 2x3 lük 1-10!a kadar oluşturulmuş matris. "
      ],
      "execution_count": null,
      "outputs": [
        {
          "output_type": "execute_result",
          "data": {
            "text/plain": [
              "array([[1, 9, 4],\n",
              "       [5, 3, 6]])"
            ]
          },
          "metadata": {
            "tags": []
          },
          "execution_count": 13
        }
      ]
    },
    {
      "cell_type": "markdown",
      "metadata": {
        "id": "zzm2sviMbIRc"
      },
      "source": [
        "**NP.ARRAY ÖZELLİKLERİ**\n",
        "- ndim : boyut sayısı\n",
        "- shape : oyut bilgisi\n",
        "- size : toplam eleman sayısı \n",
        "- dtype : array veri tipi "
      ]
    },
    {
      "cell_type": "code",
      "metadata": {
        "id": "cFMRA58jbNiD",
        "colab": {
          "base_uri": "https://localhost:8080/"
        },
        "outputId": "c2185d59-48a7-4d62-a238-6ac7ef29b71f"
      },
      "source": [
        "a= np.random.randint(10, size=10)  # 10 boyutlu 0-10 arasında elemana sahip bir array\n",
        "\n",
        "a.ndim # tek boyutlu array\n",
        "a.shape # sadeece bir boyurt bilgsi verildi. \n",
        "a.size #  çıktı : 10 eleman sayısını çerir.\n",
        "a.dtype # çıktı : dtype('int64')\n",
        "\n",
        "# RESHAPING : YENİDEN ŞEKLLENDİRMEK :\n",
        "np.arange(1,10).reshape((3,3)) #elimdeki tek boyurlu matrisi shape methodu ile 3'e 3lük br matris haline çevirdim.\n",
        "\n",
        "# CONCANTENATION : BİRLEŞTİME \n",
        "x = np.array([1,2,3,4])\n",
        "y = np.array([2,3,4,5])\n",
        "np.concatenate([x,y])  \n",
        "# iki boyutluda birleştirme işlemi :\n",
        "a = np.array([[1,2,3],[4,5,6]])\n",
        "np.concatenate([a,a]) #Satır olara birleştime işlemi yapar, eğer sütun olarak istiyorsak:\n",
        "np.concatenate([a,a], axis=1) # o dersek SATIR olarak, 1 dersek SÜTUN olarak ekleme yapmaktadır. \n",
        "\n",
        "# SPLITTING : AYIRMA \n",
        "x = np.array([1,2,3,99,99,3,2,1])\n",
        "np.split(x, [3,5]) # 3'den 5'e kadar olan kısmı ve diğerlerin ayırıyor.\n",
        "a,b,c = np.split(x, [3,5]) # split işleminden sonra değişkenlere atıyoruz. Çünü 3 adet arrayimiz oluyor \n",
        "# iki boyutluda ayırma işlemi :\n",
        "m = np.arange(16).reshape([4,4])\n",
        "n,o = np.vsplit(m, [2]) # 2ye kadar arrayi n'e ger kalınını o'ya ekliyor. 2 farklu array oluşuyor. \n",
        "k,l =np.hsplit(m,[2])  \n",
        "k # 2x4 lüük bir array oluşuyor. sağdan ve soldan ayırma işlemi yapıyor. \n",
        "\n",
        "# SORTING : SIRALAMA \n",
        "v = np.array([2,6,8,3,9,12,4,3,1])\n",
        "np.sort(v) # küçükten büyüğe sıralama işlemi yapar.\n",
        "m = np.random.normal(20,5,(3,3))\n",
        "np.sort(m, axis=1) # satırlara göre küçükten büyüğe doğru sıralar\n",
        "np.sort(m, axis=0) # ssütunlara göre küçükten büyüğe doğru sıralar\n",
        "\n",
        "# SLICING : ALT KÜME İŞLEMLERİ\n",
        "a = np.arange(20,30)\n",
        "a[1::2] # 1. elemandan başla ikişer ikişer git demek. \n",
        "m = np.random.randint(10, size=(5,5))\n",
        "m[:,0] # 0. sütunu çağırıyoruz. \n",
        "m[:, 2:4] # 2. sütundan başla 4. ssütuna kadar \n",
        "m[0, :] # 0. satırı çağırıyoruz\n",
        "m[0:2, :] # 0. satırdan başla 2. satıra kadar\n",
        "m[0:2, 1:3] # satır olarak; 0'dan başla 2'ye kadar. süyun olarak; 1'den başla 3'e kadar.\n",
        "\n",
        "# Alt Küme Üzerinde İşlem Yapmak :\n",
        "alt_m = m[0:3,0:2]\n",
        "alt_m[0,0] = 9999\n",
        "alt_m # Yaptığımız atama hem arrayin alt kümesini \n",
        "m # hem de arrayin kendisini etkiledi. burada dikkat et!!\n",
        "# COPY isimli metodu kullanacağız. \n",
        "alt_n = m[0:3,0:2].copy()\n",
        "alt_n[0,0] = 36\n",
        "alt_n # Bu metot ile sadece copy olarak aldığımız alt_n değişkeninde değişiklik sağladık.\n",
        "m # ana array de ise bu değişiklik gözlemlenmemektedir. "
      ],
      "execution_count": null,
      "outputs": [
        {
          "output_type": "execute_result",
          "data": {
            "text/plain": [
              "array([[9999,    1,    5,    9,    1],\n",
              "       [   3,    2,    9,    8,    7],\n",
              "       [   4,    1,    5,    4,    8],\n",
              "       [   3,    9,    5,    4,    5],\n",
              "       [   9,    3,    6,    8,    1]])"
            ]
          },
          "metadata": {
            "tags": []
          },
          "execution_count": 14
        }
      ]
    },
    {
      "cell_type": "markdown",
      "metadata": {
        "id": "MHpAwZ2fO-du"
      },
      "source": [
        "**FANCY INDEX**"
      ]
    },
    {
      "cell_type": "code",
      "metadata": {
        "id": "mbBFL8AYPAKS",
        "colab": {
          "base_uri": "https://localhost:8080/"
        },
        "outputId": "8749551a-5c85-406e-c9b8-c3bfbb2acbf3"
      },
      "source": [
        "v = np.arange(0,30,3)\n",
        "[v[2], v[3], v[4], v[7] ] # Seçtiğimiz elemanları br arada gözlemliyoruz.\n",
        "al = [1,3,6]\n",
        "v[al] # al arryinin içindekiler v arrayinde ki elemanlara tekabül ediyor. \n",
        "\n",
        "n = np.arange(9).reshape((3,3))\n",
        "satir = np.array([0,1])\n",
        "sutun = np.array([1,2])\n",
        "n[satir, sutun] "
      ],
      "execution_count": null,
      "outputs": [
        {
          "output_type": "execute_result",
          "data": {
            "text/plain": [
              "array([1, 5])"
            ]
          },
          "metadata": {
            "tags": []
          },
          "execution_count": 15
        }
      ]
    },
    {
      "cell_type": "markdown",
      "metadata": {
        "id": "EWM3kIjbknhZ"
      },
      "source": [
        "**Koşullu eleman işlemler :**"
      ]
    },
    {
      "cell_type": "code",
      "metadata": {
        "id": "E5JnKY3UkaEM",
        "colab": {
          "base_uri": "https://localhost:8080/"
        },
        "outputId": "414231ef-d2d2-435b-c7db-2f88e4266800"
      },
      "source": [
        "v = np.array([1,2,3,4,5])\n",
        "v>5 # True-False dönüşümü gerçekleşiyor. Hepsi false dönecektir.\n",
        "v<3 # çıktı : array([ True,  True, False, False, False])\n",
        "v[v<3] # çıktı : array([1, 2])\n",
        "v[v<=3]  # çıktı : array([1, 2, 3])\n",
        "v[v!=3]  # çıktı : array([1, 2, 4, 5])\n",
        "v*2 # tüm elemanları iki le çarpar. \n",
        "v/5 # tüm elemanları beşe böler.\n",
        "v**2 # tüm elemanların  karesini alır.\n",
        "v-1 # tüm elemanlardan bir çıkartır.\n",
        "v*5/10-1 # yazmış olduğuumuz işlemi gerçekleştirir.\n",
        "\n",
        "# ÇIKARMA İŞLEMİ :\n",
        "np.subtract(v,1)  # çıktı : array([0, 1, 2, 3, 4])\n",
        "\n",
        "# TOPLAMA İŞLEMİ :\n",
        "np.add(v,1)  # çıktı : array([2, 3, 4, 5, 6])\n",
        "\n",
        "# ÇARPMA İŞLEMİ : \n",
        "np.multiply(v,4) # çıktı : array([ 4,  8, 12, 16, 20])\n",
        "\n",
        "# BÖLME İŞLEMİ :\n",
        "np.divide(v,2) # çıktı : array([0.5, 1. , 1.5, 2. , 2.5])\n",
        "\n",
        "# N ÜSSÜNÜ ALMA : \n",
        "np.power(v,3) # çıktı : array([  1,   8,  27,  64, 125])\n",
        "\n",
        "# N'in BÖLÜMÜNDEN KALANLAR :\n",
        "np.mod(v,2) # çıktı : array([1, 0, 1, 0, 1])\n",
        "\n",
        "# MUTLAK DEĞER ALMA : \n",
        "np.absolute(np.array([-3,2,3,-12])) # çıktı : array([ 3,  2,  3, 12])\n",
        "\n",
        "# TRİGONOMETRİK FONKSİYONLAR : \n",
        "np.sin(v)   # çıktı  : array([ 0.84147098,  0.90929743,  0.14112001, -0.7568025 , -0.95892427])\n",
        "np.cos(v)   # çıktı  : array([ 0.54030231, -0.41614684, -0.9899925 , -0.65364362,  0.28366219])\n",
        "\n",
        "# LOGARİTMA : \n",
        "np.log(v)  # çıktı : array([0.        , 0.69314718, 1.09861229, 1.38629436, 1.60943791])\n",
        "np.log2(v)  # çıktı : array([0.        , 1.        , 1.5849625 , 2.        , 2.32192809])\n",
        "\n",
        "#CHEATSHEET !!!\n",
        "\n",
        "\n",
        "\n",
        "# İKİ BİLİNMEYENLİ DENKLEM :\n",
        "\n",
        "# 5*x0 + x1 = 12 ve x0 + 3*x1 = 10\n",
        "\n",
        "a = np.array([[5,1], [1,3]]) # birinci bilinmeyenin kat sayısı, ikinci bilinmeyenin kat sayısı \n",
        "b = np.array([12,10])\n",
        "x = np.linalg.solve(a,b)\n",
        "x # çıktı :  array([  x0 = 1.85714286,  x1 =  2.71428571]) "
      ],
      "execution_count": null,
      "outputs": [
        {
          "output_type": "execute_result",
          "data": {
            "text/plain": [
              "array([1.85714286, 2.71428571])"
            ]
          },
          "metadata": {
            "tags": []
          },
          "execution_count": 16
        }
      ]
    },
    {
      "cell_type": "markdown",
      "metadata": {
        "id": "d2SzPEQ5cpEy"
      },
      "source": [
        "# PANDAS "
      ]
    },
    {
      "cell_type": "markdown",
      "metadata": {
        "id": "_By8QaYHLVfa"
      },
      "source": [
        "- Değerleri indeksleri le birlikte tutar. "
      ]
    },
    {
      "cell_type": "code",
      "metadata": {
        "id": "G5l8p245czfp"
      },
      "source": [
        "import pandas as pd"
      ],
      "execution_count": null,
      "outputs": []
    },
    {
      "cell_type": "code",
      "metadata": {
        "id": "YIa7GM9GKkNg",
        "colab": {
          "base_uri": "https://localhost:8080/"
        },
        "outputId": "d11ec05a-1055-425c-b178-7a600f1a58f4"
      },
      "source": [
        "pd.Series([1,2,3,4,5])  # ilk sütundakiler indeksi, diğerleri ise içerisne yer alan değerlerdir.\n",
        "type(pd.Series([1,2,3,4,5]) ) # çıktı : pandas.core.series.Series\n",
        "pd.Series([1,2,3,4,5]).axes  # çıktı : [RangeIndex(start=0, stop=5, step=1)] 0'dan başla 5'e kadar birer birer artmış indeks bilgsi\n",
        "pd.Series([1,2,3,4,5]).dtype  # çıktı : dtype('int64')\n",
        "pd.Series([1,2,3,4,5]).size # çıktı : 5 elemanlı \n",
        "pd.Series([1,2,3,4,5]).ndim  # çıktı : 1 bir boyutlu\n",
        "pd.Series([1,2,3,4,5]).values # çıktı : array([1, 2, 3, 4, 5])\n",
        "pd.Series([1,2,3,4,5]).head() # Serinin ilk 5 elemanını döndürür.  \n",
        "pd.Series([1,2,3,4,5]).tail(2)  # Serinin içerisinde ki elemanlara sondan bakıyoruz. \n",
        "\n",
        "# Index İsimlendirmesi :\n",
        "seri = pd.Series([99,33,66,56,32,85,96], index=[\"a\",\"b\",\"c\",\"d\",\"e\",\"f\",\"g\"]) \n",
        "seri[\"a\":\"d\"] # indexler üzerinden slicingb işlemi gerçekleştiriyoruz. \n",
        "\n",
        "# Sözlük üzerinden liste oluşturmak :\n",
        "sozluk = pd.Series({\"reg\": 10,\"log\" : 11, \"cart\": 12})  # 1.\n",
        "szlk = {\"reg\": 10,\"log\" : 11, \"cart\": 12}               # 2. \n",
        "seri1 = pd.Series(szlk)\n",
        "seri1\n",
        "\n",
        "# CONCAT : İki seriyi Birleştirmek \n",
        "pd.concat([seri1,seri1]) \n",
        "\n",
        "sozluk.index # çıktı : Index(['reg', 'log', 'cart'], dtype='object')\n",
        "sozluk.keys  # keys değerlerin verir bizze.\n",
        "list(sozluk.items()) # çıktı : [('reg', 10), ('log', 11), ('cart', 12)] tek bir formda gösterir.\n",
        "sozluk.values # çıktı : array([10, 11, 12])\n",
        "\n",
        "# ELEMAN SORGULAMA İŞLEMİ : \n",
        "\"reg\" in sozluk  # True-False döndürecektir. \n",
        "\"a\" in sozluk   # çıktı : False \n",
        "sozluk [\"reg\"]  # çıktı olarak değerini alacağız."
      ],
      "execution_count": null,
      "outputs": [
        {
          "output_type": "execute_result",
          "data": {
            "text/plain": [
              "10"
            ]
          },
          "metadata": {
            "tags": []
          },
          "execution_count": 18
        }
      ]
    },
    {
      "cell_type": "markdown",
      "metadata": {
        "id": "tD0OB0Tlp2mV"
      },
      "source": [
        "**DATAFRAME :**"
      ]
    },
    {
      "cell_type": "code",
      "metadata": {
        "id": "fzXpEqoAp4Oi",
        "colab": {
          "base_uri": "https://localhost:8080/"
        },
        "outputId": "8d1c5747-abcd-4f01-ba00-63d259b136cf"
      },
      "source": [
        "l = [ 1,2,39,67,89]\n",
        "pd.DataFrame(l, columns=[\"Değişken İsmi \"])\n",
        "m = np.arange(1,10).reshape((3,3))\n",
        "pd.DataFrame(m, columns=[\"1. Değer\", \"2. Değer\", \"3. Değer\"]) \n",
        "df = pd.DataFrame(m, columns=[\"1. Değer\", \"2. Değer\", \"3. Değer\"]) \n",
        "df.head() \n",
        "df.columns # çıktı : Index(['1. Değer', '2. Değer', '3. Değer'], dtype='object')\n",
        "df.columns = (\"deg1\",\"deg2\", \"deg3\")  # Dışarıdan columns isimlerini değiştirebildik.\n",
        "type(df) # çıktı : pandas.core.frame.DataFrame\n",
        "df.axes # çıktı : [RangeIndex(start=0, stop=3, step=1),\n",
        "        #          Index(['deg1', 'deg2', 'deg3'], dtype='object')]\n",
        "df.shape # çıktı : (3, 3)\n",
        "df.ndim # çıktı : 2\n",
        "df.size # çıktı : 9 eleman sayısı\n",
        "df.values # bir array döndürür. Type burada çok öemli dikkat etmemiz gerek. \n",
        "type(df.values) # çıktı : numpy.ndarray\n"
      ],
      "execution_count": null,
      "outputs": [
        {
          "output_type": "execute_result",
          "data": {
            "text/plain": [
              "numpy.ndarray"
            ]
          },
          "metadata": {
            "tags": []
          },
          "execution_count": 19
        }
      ]
    },
    {
      "cell_type": "markdown",
      "metadata": {
        "id": "2V0qXESyc51V"
      },
      "source": [
        "**Eleman İşlemleri :**"
      ]
    },
    {
      "cell_type": "code",
      "metadata": {
        "colab": {
          "base_uri": "https://localhost:8080/"
        },
        "id": "kkzBSPrxc8e3",
        "outputId": "78eec491-5b35-491a-c46b-da8a0fbff5d4"
      },
      "source": [
        "# ELEMAN İŞLEMLERİ :\n",
        "s1 = np.random.randint(10, size=5)\n",
        "s2 = np.random.randint(10, size=5)\n",
        "s3 = np.random.randint(10, size=5)\n",
        "sozluk1 = {\"var1\" : s1, # numpy dan sözlüğe \n",
        "          \"var2\" : s2,\n",
        "          \"var3\" : s3}\n",
        "df = pd.DataFrame(sozluk1)  # sözlükten pandasa\n",
        "df.index = [\"a\",\"b\",\"c\",\"d\",\"e\"]\n",
        "df[\"c\":\"e\"] # cden e ye kadar \n",
        "\n",
        "# silme işlemini nasıl yapacağız peki? \n",
        "df.drop(\"a\", axis=0) # axis =0 satır işlemmi yaptığımızı belli ediyor.  FAKAT KALICI BİR SİLME İŞLEMİ DEĞİLDİR!!\n",
        "# df.drop(\"a\", axis=0, inplace= True) #  inplace :  Bize kalıcı bir silme işlemi gerçekleştirir. \n",
        "# Birden fazla silme işlemi gerçekleştirmek istiyorsak;\n",
        "l1= [\"c\",\"e\"] # listeye atıyoruz. \n",
        "df.drop(l1, axis=0)\n",
        "df # çıktı : elimde sadece b ve d 'nin verileri bulunmaktadır.\n",
        "\n",
        "\"var1\"in df # çıktı : True \n",
        "l2 = [\"var1\", \"var4\", \"var2\"]\n",
        "for i in l2 :\n",
        "  print(i in df ) # çıktı : True, False, True şeklinde dönecektir.\n",
        "\n",
        "# df[] : köşeli parantez demek, dataframe içimdeki bir veriye ulaşmak istediğimi gösteriyor. \n",
        "df[\"var4\"] = df[\"var1\"] * df[\"var2\"] # yeni eklenen sütun  1 ve 2 nin çarpımlarından elde edilen sonuca göre oluşturuldu."
      ],
      "execution_count": null,
      "outputs": [
        {
          "output_type": "stream",
          "text": [
            "True\n",
            "False\n",
            "True\n"
          ],
          "name": "stdout"
        }
      ]
    },
    {
      "cell_type": "markdown",
      "metadata": {
        "id": "mlKAP3t1dBSi"
      },
      "source": [
        "**Gözlem ve Değişken Seçimi :**\n",
        "\n",
        "\n",
        "satırlarla ilgili bir gözlem işlemi yapacaksak **loc** kullanılması gerekir. **iloc** aynı kodda hata verecektir. \n",
        "\n",
        ": **df.loc[0:3 , \"var1\"]** "
      ]
    },
    {
      "cell_type": "code",
      "metadata": {
        "colab": {
          "base_uri": "https://localhost:8080/",
          "height": 634
        },
        "id": "oXp8OE5fdE9L",
        "outputId": "1c6a16cc-af08-4c2f-e8a7-a1498f33f075"
      },
      "source": [
        "m = np.random.randint(1,30, size=(10,3))\n",
        "df = pd.DataFrame(m, columns=[\"var1\",\"var2\",\"var3\"])\n",
        "\n",
        "# loc : tanımlandığı şekli ile seçim yapmak için kullanılır.\n",
        "df.loc[0:3]  # 0-1-2-3\n",
        "# iloc : alışık olduğumuz indekleme mantığı ile seçim yapar. \n",
        "df.iloc[0:3] # 0-1-2\n",
        "df.loc[0:3, \"var3\"]  \n",
        "df.iloc[0:3][\"var3\"] \n",
        "\n",
        "df[0:3][[\"var1\",\"var2\"]] \n",
        "\n",
        "# \"var1\" e bulunan değişkenlerin >n olma durumu :\n",
        "df[df.var1 >7] \n",
        "df[(df.var1 >10) & (df.var3 <7)]  \n",
        "df.loc[(df.var1 >10), [\"var1\", \"var2\"]] # hata almadan var1 ve var2 yi döndürebiliriz.\n",
        "df[(df.var1 >10)][[\"var1\",\"var2\"]] # yukarıdaki işlemin aynısı\n",
        "\n",
        "df2 = df +90\n",
        "df2\n",
        "\n",
        "pd.concat([df,df2]) # birleştirme işlemi gerçekleşti. \n",
        "pd.concat([df,df2], ignore_index=True) # index sıralama işlemini gerçekleştrir.\n",
        "# ?pd.concat\n",
        "\n",
        "# df2 de ki değişken adlarımızdan biri farklı olduğunda concat işlem gerçekleştirilirken hata alırız. \n",
        "# Peki bu durumu nasıl düzeltebiliriz?\n",
        "pd.concat([df,df2], join=\"inner\") # join = \"inner\" kesişimlerine göre brleştirdi. \n",
        "# pd.concat([df,df2], join_axes=[df.columns]) hata alıyorum!! \n",
        "\n",
        "# VERSION FARKINDAN KAYNAKLI BİR DURUM BUL!!!"
      ],
      "execution_count": null,
      "outputs": [
        {
          "output_type": "execute_result",
          "data": {
            "text/html": [
              "<div>\n",
              "<style scoped>\n",
              "    .dataframe tbody tr th:only-of-type {\n",
              "        vertical-align: middle;\n",
              "    }\n",
              "\n",
              "    .dataframe tbody tr th {\n",
              "        vertical-align: top;\n",
              "    }\n",
              "\n",
              "    .dataframe thead th {\n",
              "        text-align: right;\n",
              "    }\n",
              "</style>\n",
              "<table border=\"1\" class=\"dataframe\">\n",
              "  <thead>\n",
              "    <tr style=\"text-align: right;\">\n",
              "      <th></th>\n",
              "      <th>var1</th>\n",
              "      <th>var2</th>\n",
              "      <th>var3</th>\n",
              "    </tr>\n",
              "  </thead>\n",
              "  <tbody>\n",
              "    <tr>\n",
              "      <th>0</th>\n",
              "      <td>25</td>\n",
              "      <td>13</td>\n",
              "      <td>21</td>\n",
              "    </tr>\n",
              "    <tr>\n",
              "      <th>1</th>\n",
              "      <td>20</td>\n",
              "      <td>13</td>\n",
              "      <td>26</td>\n",
              "    </tr>\n",
              "    <tr>\n",
              "      <th>2</th>\n",
              "      <td>19</td>\n",
              "      <td>10</td>\n",
              "      <td>25</td>\n",
              "    </tr>\n",
              "    <tr>\n",
              "      <th>3</th>\n",
              "      <td>11</td>\n",
              "      <td>16</td>\n",
              "      <td>8</td>\n",
              "    </tr>\n",
              "    <tr>\n",
              "      <th>4</th>\n",
              "      <td>13</td>\n",
              "      <td>15</td>\n",
              "      <td>19</td>\n",
              "    </tr>\n",
              "    <tr>\n",
              "      <th>5</th>\n",
              "      <td>6</td>\n",
              "      <td>1</td>\n",
              "      <td>29</td>\n",
              "    </tr>\n",
              "    <tr>\n",
              "      <th>6</th>\n",
              "      <td>10</td>\n",
              "      <td>24</td>\n",
              "      <td>25</td>\n",
              "    </tr>\n",
              "    <tr>\n",
              "      <th>7</th>\n",
              "      <td>22</td>\n",
              "      <td>8</td>\n",
              "      <td>16</td>\n",
              "    </tr>\n",
              "    <tr>\n",
              "      <th>8</th>\n",
              "      <td>18</td>\n",
              "      <td>24</td>\n",
              "      <td>22</td>\n",
              "    </tr>\n",
              "    <tr>\n",
              "      <th>9</th>\n",
              "      <td>19</td>\n",
              "      <td>15</td>\n",
              "      <td>25</td>\n",
              "    </tr>\n",
              "    <tr>\n",
              "      <th>0</th>\n",
              "      <td>115</td>\n",
              "      <td>103</td>\n",
              "      <td>111</td>\n",
              "    </tr>\n",
              "    <tr>\n",
              "      <th>1</th>\n",
              "      <td>110</td>\n",
              "      <td>103</td>\n",
              "      <td>116</td>\n",
              "    </tr>\n",
              "    <tr>\n",
              "      <th>2</th>\n",
              "      <td>109</td>\n",
              "      <td>100</td>\n",
              "      <td>115</td>\n",
              "    </tr>\n",
              "    <tr>\n",
              "      <th>3</th>\n",
              "      <td>101</td>\n",
              "      <td>106</td>\n",
              "      <td>98</td>\n",
              "    </tr>\n",
              "    <tr>\n",
              "      <th>4</th>\n",
              "      <td>103</td>\n",
              "      <td>105</td>\n",
              "      <td>109</td>\n",
              "    </tr>\n",
              "    <tr>\n",
              "      <th>5</th>\n",
              "      <td>96</td>\n",
              "      <td>91</td>\n",
              "      <td>119</td>\n",
              "    </tr>\n",
              "    <tr>\n",
              "      <th>6</th>\n",
              "      <td>100</td>\n",
              "      <td>114</td>\n",
              "      <td>115</td>\n",
              "    </tr>\n",
              "    <tr>\n",
              "      <th>7</th>\n",
              "      <td>112</td>\n",
              "      <td>98</td>\n",
              "      <td>106</td>\n",
              "    </tr>\n",
              "    <tr>\n",
              "      <th>8</th>\n",
              "      <td>108</td>\n",
              "      <td>114</td>\n",
              "      <td>112</td>\n",
              "    </tr>\n",
              "    <tr>\n",
              "      <th>9</th>\n",
              "      <td>109</td>\n",
              "      <td>105</td>\n",
              "      <td>115</td>\n",
              "    </tr>\n",
              "  </tbody>\n",
              "</table>\n",
              "</div>"
            ],
            "text/plain": [
              "   var1  var2  var3\n",
              "0    25    13    21\n",
              "1    20    13    26\n",
              "2    19    10    25\n",
              "3    11    16     8\n",
              "4    13    15    19\n",
              "5     6     1    29\n",
              "6    10    24    25\n",
              "7    22     8    16\n",
              "8    18    24    22\n",
              "9    19    15    25\n",
              "0   115   103   111\n",
              "1   110   103   116\n",
              "2   109   100   115\n",
              "3   101   106    98\n",
              "4   103   105   109\n",
              "5    96    91   119\n",
              "6   100   114   115\n",
              "7   112    98   106\n",
              "8   108   114   112\n",
              "9   109   105   115"
            ]
          },
          "metadata": {
            "tags": []
          },
          "execution_count": 21
        }
      ]
    },
    {
      "cell_type": "markdown",
      "metadata": {
        "id": "OoR9qtUV_aRg"
      },
      "source": [
        "**İleri Birleştirme İşlemleri :**"
      ]
    },
    {
      "cell_type": "code",
      "metadata": {
        "colab": {
          "base_uri": "https://localhost:8080/",
          "height": 164
        },
        "id": "4FLFU0KM-DRy",
        "outputId": "a7e41e4a-5d2d-45d1-c47e-44be5ae36d96"
      },
      "source": [
        "df1 = pd.DataFrame({\"calisanlar\": [\"Ali\", \"Veli\", \"Ayşe\", \"Fatma\"],\n",
        "                    \"grup\": [\"Muhasebe\", \"Mühendislik\",\"Mühendislik\",\"İK\" ]})\n",
        "df1 \n",
        "\n",
        "df2 = pd.DataFrame({\"calisanlar\": [\"Ali\", \"Veli\", \"Ayşe\", \"Fatma\"],\n",
        "                    \"ilk_yil\": [2010,2009,2014,2019]})\n",
        "df2\n",
        "pd.merge(df1,df2)  # çalışanlar ortak olduğu için birleştirme işlemi yapıldı. \n",
        "df3 = pd.merge( df1,df2)\n",
        "df3\n",
        "df4 = pd.DataFrame({\"grup\": [\"Muhasebe\", \"Mühendislik\",\"İK\" ],\n",
        "                    \"mudur\": [\"Caner\", \"Mustafa\", \"Berkcan\"]})\n",
        "pd.merge(df3,df4)"
      ],
      "execution_count": null,
      "outputs": [
        {
          "output_type": "execute_result",
          "data": {
            "text/html": [
              "<div>\n",
              "<style scoped>\n",
              "    .dataframe tbody tr th:only-of-type {\n",
              "        vertical-align: middle;\n",
              "    }\n",
              "\n",
              "    .dataframe tbody tr th {\n",
              "        vertical-align: top;\n",
              "    }\n",
              "\n",
              "    .dataframe thead th {\n",
              "        text-align: right;\n",
              "    }\n",
              "</style>\n",
              "<table border=\"1\" class=\"dataframe\">\n",
              "  <thead>\n",
              "    <tr style=\"text-align: right;\">\n",
              "      <th></th>\n",
              "      <th>calisanlar</th>\n",
              "      <th>grup</th>\n",
              "      <th>ilk_yil</th>\n",
              "      <th>mudur</th>\n",
              "    </tr>\n",
              "  </thead>\n",
              "  <tbody>\n",
              "    <tr>\n",
              "      <th>0</th>\n",
              "      <td>Ali</td>\n",
              "      <td>Muhasebe</td>\n",
              "      <td>2010</td>\n",
              "      <td>Caner</td>\n",
              "    </tr>\n",
              "    <tr>\n",
              "      <th>1</th>\n",
              "      <td>Veli</td>\n",
              "      <td>Mühendislik</td>\n",
              "      <td>2009</td>\n",
              "      <td>Mustafa</td>\n",
              "    </tr>\n",
              "    <tr>\n",
              "      <th>2</th>\n",
              "      <td>Ayşe</td>\n",
              "      <td>Mühendislik</td>\n",
              "      <td>2014</td>\n",
              "      <td>Mustafa</td>\n",
              "    </tr>\n",
              "    <tr>\n",
              "      <th>3</th>\n",
              "      <td>Fatma</td>\n",
              "      <td>İK</td>\n",
              "      <td>2019</td>\n",
              "      <td>Berkcan</td>\n",
              "    </tr>\n",
              "  </tbody>\n",
              "</table>\n",
              "</div>"
            ],
            "text/plain": [
              "  calisanlar         grup  ilk_yil    mudur\n",
              "0        Ali     Muhasebe     2010    Caner\n",
              "1       Veli  Mühendislik     2009  Mustafa\n",
              "2       Ayşe  Mühendislik     2014  Mustafa\n",
              "3      Fatma           İK     2019  Berkcan"
            ]
          },
          "metadata": {
            "tags": []
          },
          "execution_count": 22
        }
      ]
    },
    {
      "cell_type": "markdown",
      "metadata": {
        "id": "ZZ93OiRZK6YN"
      },
      "source": [
        "**AGGREGATION & GROUPING :** \n",
        "\n"
      ]
    },
    {
      "cell_type": "code",
      "metadata": {
        "id": "0Wh8ATN2K-Ls"
      },
      "source": [
        "import seaborn as sns"
      ],
      "execution_count": null,
      "outputs": []
    },
    {
      "cell_type": "code",
      "metadata": {
        "colab": {
          "base_uri": "https://localhost:8080/",
          "height": 194
        },
        "id": "1AQ_-lgdLDKx",
        "outputId": "676f8014-d3d1-4077-f6d8-313eae4521c2"
      },
      "source": [
        "df = sns.load_dataset(\"planets\")\n",
        "df.head() \n",
        "df.shape # (1035, 6)\n",
        "df.mean() # bu tüm gruplar için\n",
        "df[\"mass\"].mean() # sadece belirli bir değişken için \n",
        "df[\"mass\"].count() \n",
        "df[\"mass\"].max() \n",
        "df[\"mass\"].min()\n",
        "df[\"mass\"].sum()\n",
        "df[\"mass\"].var()\n",
        "df.describe() # tüm değişkenler için tmel istatistik sonuçlarını verir.\n",
        "df.describe().T # format değişikliği \n",
        "df.dropna().describe().T # NaN değerleri eksik verileri silerek gözlemlenmiş hali."
      ],
      "execution_count": null,
      "outputs": [
        {
          "output_type": "execute_result",
          "data": {
            "text/html": [
              "<div>\n",
              "<style scoped>\n",
              "    .dataframe tbody tr th:only-of-type {\n",
              "        vertical-align: middle;\n",
              "    }\n",
              "\n",
              "    .dataframe tbody tr th {\n",
              "        vertical-align: top;\n",
              "    }\n",
              "\n",
              "    .dataframe thead th {\n",
              "        text-align: right;\n",
              "    }\n",
              "</style>\n",
              "<table border=\"1\" class=\"dataframe\">\n",
              "  <thead>\n",
              "    <tr style=\"text-align: right;\">\n",
              "      <th></th>\n",
              "      <th>count</th>\n",
              "      <th>mean</th>\n",
              "      <th>std</th>\n",
              "      <th>min</th>\n",
              "      <th>25%</th>\n",
              "      <th>50%</th>\n",
              "      <th>75%</th>\n",
              "      <th>max</th>\n",
              "    </tr>\n",
              "  </thead>\n",
              "  <tbody>\n",
              "    <tr>\n",
              "      <th>number</th>\n",
              "      <td>498.0</td>\n",
              "      <td>1.734940</td>\n",
              "      <td>1.175720</td>\n",
              "      <td>1.0000</td>\n",
              "      <td>1.00000</td>\n",
              "      <td>1.000</td>\n",
              "      <td>2.0000</td>\n",
              "      <td>6.0</td>\n",
              "    </tr>\n",
              "    <tr>\n",
              "      <th>orbital_period</th>\n",
              "      <td>498.0</td>\n",
              "      <td>835.778671</td>\n",
              "      <td>1469.128259</td>\n",
              "      <td>1.3283</td>\n",
              "      <td>38.27225</td>\n",
              "      <td>357.000</td>\n",
              "      <td>999.6000</td>\n",
              "      <td>17337.5</td>\n",
              "    </tr>\n",
              "    <tr>\n",
              "      <th>mass</th>\n",
              "      <td>498.0</td>\n",
              "      <td>2.509320</td>\n",
              "      <td>3.636274</td>\n",
              "      <td>0.0036</td>\n",
              "      <td>0.21250</td>\n",
              "      <td>1.245</td>\n",
              "      <td>2.8675</td>\n",
              "      <td>25.0</td>\n",
              "    </tr>\n",
              "    <tr>\n",
              "      <th>distance</th>\n",
              "      <td>498.0</td>\n",
              "      <td>52.068213</td>\n",
              "      <td>46.596041</td>\n",
              "      <td>1.3500</td>\n",
              "      <td>24.49750</td>\n",
              "      <td>39.940</td>\n",
              "      <td>59.3325</td>\n",
              "      <td>354.0</td>\n",
              "    </tr>\n",
              "    <tr>\n",
              "      <th>year</th>\n",
              "      <td>498.0</td>\n",
              "      <td>2007.377510</td>\n",
              "      <td>4.167284</td>\n",
              "      <td>1989.0000</td>\n",
              "      <td>2005.00000</td>\n",
              "      <td>2009.000</td>\n",
              "      <td>2011.0000</td>\n",
              "      <td>2014.0</td>\n",
              "    </tr>\n",
              "  </tbody>\n",
              "</table>\n",
              "</div>"
            ],
            "text/plain": [
              "                count         mean          std  ...       50%        75%      max\n",
              "number          498.0     1.734940     1.175720  ...     1.000     2.0000      6.0\n",
              "orbital_period  498.0   835.778671  1469.128259  ...   357.000   999.6000  17337.5\n",
              "mass            498.0     2.509320     3.636274  ...     1.245     2.8675     25.0\n",
              "distance        498.0    52.068213    46.596041  ...    39.940    59.3325    354.0\n",
              "year            498.0  2007.377510     4.167284  ...  2009.000  2011.0000   2014.0\n",
              "\n",
              "[5 rows x 8 columns]"
            ]
          },
          "metadata": {
            "tags": []
          },
          "execution_count": 24
        }
      ]
    },
    {
      "cell_type": "code",
      "metadata": {
        "colab": {
          "base_uri": "https://localhost:8080/",
          "height": 370
        },
        "id": "iCrFSZuaN9-y",
        "outputId": "600b9969-bdec-49a8-e51d-e02949268f01"
      },
      "source": [
        "df = pd.DataFrame({\"gruplar\" : [\"A\", \"B\", \"C\",\"A\", \"B\", \"C\"],\n",
        "                   \"veri\" : [10,11,52,23,43,55]}, columns= [\"gruplar\", \"veri\"])\n",
        "df.groupby(\"gruplar\") # çıktı nesne oluşturur.\n",
        "df.groupby(\"gruplar\").mean() \n",
        "df = sns.load_dataset(\"planets\")\n",
        "df.head() \n",
        "df.groupby(\"method\")[\"orbital_period\"].describe()"
      ],
      "execution_count": null,
      "outputs": [
        {
          "output_type": "execute_result",
          "data": {
            "text/html": [
              "<div>\n",
              "<style scoped>\n",
              "    .dataframe tbody tr th:only-of-type {\n",
              "        vertical-align: middle;\n",
              "    }\n",
              "\n",
              "    .dataframe tbody tr th {\n",
              "        vertical-align: top;\n",
              "    }\n",
              "\n",
              "    .dataframe thead th {\n",
              "        text-align: right;\n",
              "    }\n",
              "</style>\n",
              "<table border=\"1\" class=\"dataframe\">\n",
              "  <thead>\n",
              "    <tr style=\"text-align: right;\">\n",
              "      <th></th>\n",
              "      <th>count</th>\n",
              "      <th>mean</th>\n",
              "      <th>std</th>\n",
              "      <th>min</th>\n",
              "      <th>25%</th>\n",
              "      <th>50%</th>\n",
              "      <th>75%</th>\n",
              "      <th>max</th>\n",
              "    </tr>\n",
              "    <tr>\n",
              "      <th>method</th>\n",
              "      <th></th>\n",
              "      <th></th>\n",
              "      <th></th>\n",
              "      <th></th>\n",
              "      <th></th>\n",
              "      <th></th>\n",
              "      <th></th>\n",
              "      <th></th>\n",
              "    </tr>\n",
              "  </thead>\n",
              "  <tbody>\n",
              "    <tr>\n",
              "      <th>Astrometry</th>\n",
              "      <td>2.0</td>\n",
              "      <td>631.180000</td>\n",
              "      <td>544.217663</td>\n",
              "      <td>246.360000</td>\n",
              "      <td>438.770000</td>\n",
              "      <td>631.180000</td>\n",
              "      <td>823.590000</td>\n",
              "      <td>1016.000000</td>\n",
              "    </tr>\n",
              "    <tr>\n",
              "      <th>Eclipse Timing Variations</th>\n",
              "      <td>9.0</td>\n",
              "      <td>4751.644444</td>\n",
              "      <td>2499.130945</td>\n",
              "      <td>1916.250000</td>\n",
              "      <td>2900.000000</td>\n",
              "      <td>4343.500000</td>\n",
              "      <td>5767.000000</td>\n",
              "      <td>10220.000000</td>\n",
              "    </tr>\n",
              "    <tr>\n",
              "      <th>Imaging</th>\n",
              "      <td>12.0</td>\n",
              "      <td>118247.737500</td>\n",
              "      <td>213978.177277</td>\n",
              "      <td>4639.150000</td>\n",
              "      <td>8343.900000</td>\n",
              "      <td>27500.000000</td>\n",
              "      <td>94250.000000</td>\n",
              "      <td>730000.000000</td>\n",
              "    </tr>\n",
              "    <tr>\n",
              "      <th>Microlensing</th>\n",
              "      <td>7.0</td>\n",
              "      <td>3153.571429</td>\n",
              "      <td>1113.166333</td>\n",
              "      <td>1825.000000</td>\n",
              "      <td>2375.000000</td>\n",
              "      <td>3300.000000</td>\n",
              "      <td>3550.000000</td>\n",
              "      <td>5100.000000</td>\n",
              "    </tr>\n",
              "    <tr>\n",
              "      <th>Orbital Brightness Modulation</th>\n",
              "      <td>3.0</td>\n",
              "      <td>0.709307</td>\n",
              "      <td>0.725493</td>\n",
              "      <td>0.240104</td>\n",
              "      <td>0.291496</td>\n",
              "      <td>0.342887</td>\n",
              "      <td>0.943908</td>\n",
              "      <td>1.544929</td>\n",
              "    </tr>\n",
              "    <tr>\n",
              "      <th>Pulsar Timing</th>\n",
              "      <td>5.0</td>\n",
              "      <td>7343.021201</td>\n",
              "      <td>16313.265573</td>\n",
              "      <td>0.090706</td>\n",
              "      <td>25.262000</td>\n",
              "      <td>66.541900</td>\n",
              "      <td>98.211400</td>\n",
              "      <td>36525.000000</td>\n",
              "    </tr>\n",
              "    <tr>\n",
              "      <th>Pulsation Timing Variations</th>\n",
              "      <td>1.0</td>\n",
              "      <td>1170.000000</td>\n",
              "      <td>NaN</td>\n",
              "      <td>1170.000000</td>\n",
              "      <td>1170.000000</td>\n",
              "      <td>1170.000000</td>\n",
              "      <td>1170.000000</td>\n",
              "      <td>1170.000000</td>\n",
              "    </tr>\n",
              "    <tr>\n",
              "      <th>Radial Velocity</th>\n",
              "      <td>553.0</td>\n",
              "      <td>823.354680</td>\n",
              "      <td>1454.926210</td>\n",
              "      <td>0.736540</td>\n",
              "      <td>38.021000</td>\n",
              "      <td>360.200000</td>\n",
              "      <td>982.000000</td>\n",
              "      <td>17337.500000</td>\n",
              "    </tr>\n",
              "    <tr>\n",
              "      <th>Transit</th>\n",
              "      <td>397.0</td>\n",
              "      <td>21.102073</td>\n",
              "      <td>46.185893</td>\n",
              "      <td>0.355000</td>\n",
              "      <td>3.160630</td>\n",
              "      <td>5.714932</td>\n",
              "      <td>16.145700</td>\n",
              "      <td>331.600590</td>\n",
              "    </tr>\n",
              "    <tr>\n",
              "      <th>Transit Timing Variations</th>\n",
              "      <td>3.0</td>\n",
              "      <td>79.783500</td>\n",
              "      <td>71.599884</td>\n",
              "      <td>22.339500</td>\n",
              "      <td>39.675250</td>\n",
              "      <td>57.011000</td>\n",
              "      <td>108.505500</td>\n",
              "      <td>160.000000</td>\n",
              "    </tr>\n",
              "  </tbody>\n",
              "</table>\n",
              "</div>"
            ],
            "text/plain": [
              "                               count  ...            max\n",
              "method                                ...               \n",
              "Astrometry                       2.0  ...    1016.000000\n",
              "Eclipse Timing Variations        9.0  ...   10220.000000\n",
              "Imaging                         12.0  ...  730000.000000\n",
              "Microlensing                     7.0  ...    5100.000000\n",
              "Orbital Brightness Modulation    3.0  ...       1.544929\n",
              "Pulsar Timing                    5.0  ...   36525.000000\n",
              "Pulsation Timing Variations      1.0  ...    1170.000000\n",
              "Radial Velocity                553.0  ...   17337.500000\n",
              "Transit                        397.0  ...     331.600590\n",
              "Transit Timing Variations        3.0  ...     160.000000\n",
              "\n",
              "[10 rows x 8 columns]"
            ]
          },
          "metadata": {
            "tags": []
          },
          "execution_count": 25
        }
      ]
    },
    {
      "cell_type": "code",
      "metadata": {
        "colab": {
          "base_uri": "https://localhost:8080/",
          "height": 164
        },
        "id": "aJojArwURmIf",
        "outputId": "2f23f9ae-0d69-48df-a626-c184be56f48f"
      },
      "source": [
        "df = pd.DataFrame({\"gruplar\" : [\"A\", \"B\", \"C\",\"A\", \"B\", \"C\"],\n",
        "                   \"değişkenler1\" : [10,23,33,22,11,99], \n",
        "                   \"değişkenler2\" : [100,253,333,262,111,969]}, columns= [\"gruplar\", \"değişkenler1\",\"değişkenler2\" ])\n",
        "df.groupby(\"gruplar\").aggregate([\"min\", np.median, \"max\" ])   # tırnak içerisinde ya da tırnaksız yazılabilir ama pandas'ın içerisinde yer aldığını biliyorsak\n",
        "df.groupby(\"gruplar\").aggregate({\"değişkenler1\": min,\n",
        "                                 \"değişkenler2\" : max})\n",
        "\n",
        "def filter_func(x):\n",
        "  return x[\"değişkenler1\"].std()>9\n",
        "df.groupby(\"gruplar\").filter(filter_func)  # değişken 1'e göre standart sapma hesaplandı \n",
        "\n",
        "\n",
        "# transform : vektörel çalışan bir fonksiyon.\n",
        "df[\"değişkenler1\"]*9\n",
        "df_a = df.iloc[:,1:3]\n",
        "df_a.transform(lambda x : (x-x.mean()) / x.std())\n",
        "\n",
        "# apply : değişkenler üzerinde gezinmeye  yardımcı bir fonksyon.\n",
        "df = pd.DataFrame({\"değişkenler1\" : [10,23,33,22,11,99], \n",
        "                   \"değişkenler2\" : [100,253,333,262,111,969]}, columns= [\"değişkenler1\",\"değişkenler2\" ])\n",
        "df.apply(np.sum)\n",
        "df.apply(np.mean)  \n",
        "# Peki işin içine gruplar girerse : \n",
        "df = pd.DataFrame({\"gruplar\" : [\"A\", \"B\", \"C\",\"A\", \"B\", \"C\"],\n",
        "                   \"değişkenler1\" : [10,23,33,22,11,99], \n",
        "                   \"değişkenler2\" : [100,253,333,262,111,969]}, columns= [\"gruplar\", \"değişkenler1\",\"değişkenler2\" ])\n",
        "df.groupby(\"gruplar\").apply(np.sum )   # birdeğişiklik olmuyor.                  "
      ],
      "execution_count": null,
      "outputs": [
        {
          "output_type": "execute_result",
          "data": {
            "text/html": [
              "<div>\n",
              "<style scoped>\n",
              "    .dataframe tbody tr th:only-of-type {\n",
              "        vertical-align: middle;\n",
              "    }\n",
              "\n",
              "    .dataframe tbody tr th {\n",
              "        vertical-align: top;\n",
              "    }\n",
              "\n",
              "    .dataframe thead th {\n",
              "        text-align: right;\n",
              "    }\n",
              "</style>\n",
              "<table border=\"1\" class=\"dataframe\">\n",
              "  <thead>\n",
              "    <tr style=\"text-align: right;\">\n",
              "      <th></th>\n",
              "      <th>gruplar</th>\n",
              "      <th>değişkenler1</th>\n",
              "      <th>değişkenler2</th>\n",
              "    </tr>\n",
              "    <tr>\n",
              "      <th>gruplar</th>\n",
              "      <th></th>\n",
              "      <th></th>\n",
              "      <th></th>\n",
              "    </tr>\n",
              "  </thead>\n",
              "  <tbody>\n",
              "    <tr>\n",
              "      <th>A</th>\n",
              "      <td>AA</td>\n",
              "      <td>32</td>\n",
              "      <td>362</td>\n",
              "    </tr>\n",
              "    <tr>\n",
              "      <th>B</th>\n",
              "      <td>BB</td>\n",
              "      <td>34</td>\n",
              "      <td>364</td>\n",
              "    </tr>\n",
              "    <tr>\n",
              "      <th>C</th>\n",
              "      <td>CC</td>\n",
              "      <td>132</td>\n",
              "      <td>1302</td>\n",
              "    </tr>\n",
              "  </tbody>\n",
              "</table>\n",
              "</div>"
            ],
            "text/plain": [
              "        gruplar  değişkenler1  değişkenler2\n",
              "gruplar                                    \n",
              "A            AA            32           362\n",
              "B            BB            34           364\n",
              "C            CC           132          1302"
            ]
          },
          "metadata": {
            "tags": []
          },
          "execution_count": 26
        }
      ]
    },
    {
      "cell_type": "markdown",
      "metadata": {
        "id": "BcSxjHTCVkYI"
      },
      "source": [
        "**Pivot Tablolar :**"
      ]
    },
    {
      "cell_type": "code",
      "metadata": {
        "colab": {
          "base_uri": "https://localhost:8080/",
          "height": 194
        },
        "id": "pKDnmVl1VnXf",
        "outputId": "55e93379-b206-495a-cd26-608bd8e261d3"
      },
      "source": [
        "titanic = sns.load_dataset(\"titanic\")\n",
        "titanic.head()\n",
        "titanic.groupby(\"sex\")[[\"survived\"]].mean() # cinsiyete göre hayatatta kalanların ortalaması \n",
        "# pivot olmasını istiyorsak ilkelce yöntem : [[]]\n",
        "titanic.groupby([\"sex\", \"class\"])[[\"survived\"]].aggregate(\"mean\").unstack()\n",
        "# unstack : hiyerarşik index yapısını düzeltiyoruz. \n",
        "titanic.pivot_table(\"survived\", index=\"sex\", columns=\"class\") # yukarıda yapılan işlemin aynısını sadece pivot tablo üzerindegerçekleştiriyoruz. \n",
        "\n",
        "age = pd.cut(titanic[\"age\"], [0,18,90]) # categoric değişkene dönüştürdük\n",
        "age.head(10) \n",
        "titanic.pivot_table(\"survived\", [\"sex\",age], \"class\")"
      ],
      "execution_count": null,
      "outputs": [
        {
          "output_type": "execute_result",
          "data": {
            "text/html": [
              "<div>\n",
              "<style scoped>\n",
              "    .dataframe tbody tr th:only-of-type {\n",
              "        vertical-align: middle;\n",
              "    }\n",
              "\n",
              "    .dataframe tbody tr th {\n",
              "        vertical-align: top;\n",
              "    }\n",
              "\n",
              "    .dataframe thead th {\n",
              "        text-align: right;\n",
              "    }\n",
              "</style>\n",
              "<table border=\"1\" class=\"dataframe\">\n",
              "  <thead>\n",
              "    <tr style=\"text-align: right;\">\n",
              "      <th></th>\n",
              "      <th>class</th>\n",
              "      <th>First</th>\n",
              "      <th>Second</th>\n",
              "      <th>Third</th>\n",
              "    </tr>\n",
              "    <tr>\n",
              "      <th>sex</th>\n",
              "      <th>age</th>\n",
              "      <th></th>\n",
              "      <th></th>\n",
              "      <th></th>\n",
              "    </tr>\n",
              "  </thead>\n",
              "  <tbody>\n",
              "    <tr>\n",
              "      <th rowspan=\"2\" valign=\"top\">female</th>\n",
              "      <th>(0, 18]</th>\n",
              "      <td>0.909091</td>\n",
              "      <td>1.000000</td>\n",
              "      <td>0.511628</td>\n",
              "    </tr>\n",
              "    <tr>\n",
              "      <th>(18, 90]</th>\n",
              "      <td>0.972973</td>\n",
              "      <td>0.900000</td>\n",
              "      <td>0.423729</td>\n",
              "    </tr>\n",
              "    <tr>\n",
              "      <th rowspan=\"2\" valign=\"top\">male</th>\n",
              "      <th>(0, 18]</th>\n",
              "      <td>0.800000</td>\n",
              "      <td>0.600000</td>\n",
              "      <td>0.215686</td>\n",
              "    </tr>\n",
              "    <tr>\n",
              "      <th>(18, 90]</th>\n",
              "      <td>0.375000</td>\n",
              "      <td>0.071429</td>\n",
              "      <td>0.133663</td>\n",
              "    </tr>\n",
              "  </tbody>\n",
              "</table>\n",
              "</div>"
            ],
            "text/plain": [
              "class               First    Second     Third\n",
              "sex    age                                   \n",
              "female (0, 18]   0.909091  1.000000  0.511628\n",
              "       (18, 90]  0.972973  0.900000  0.423729\n",
              "male   (0, 18]   0.800000  0.600000  0.215686\n",
              "       (18, 90]  0.375000  0.071429  0.133663"
            ]
          },
          "metadata": {
            "tags": []
          },
          "execution_count": 27
        }
      ]
    },
    {
      "cell_type": "code",
      "metadata": {
        "id": "U2kosErMcP1F"
      },
      "source": [
        "from google.colab import files\n",
        "uploaded = files.upload()"
      ],
      "execution_count": null,
      "outputs": []
    },
    {
      "cell_type": "code",
      "metadata": {
        "id": "HEcpVpifcuE5"
      },
      "source": [
        "pd.read_csv(\"ornekcsv.csv\") # ayraç olarak ön tanımlı değer \" ,\"\n",
        "pd.read_csv(\"ornekcsv.csv\", sep=\";\")\n",
        "pd.read_excel(\"ornekx.xlsx\") \n",
        "pd.read_csv(\"duz_metin.txt\") \n",
        "df = pd.read_excel(\"ornekx.xlsx\") \n",
        "df.columns = (\"A\",\"B\",\"C\")\n",
        "df "
      ],
      "execution_count": null,
      "outputs": []
    }
  ]
}